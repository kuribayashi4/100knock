{
 "cells": [
  {
   "cell_type": "code",
   "execution_count": 10,
   "metadata": {
    "collapsed": false,
    "deletable": true,
    "editable": true
   },
   "outputs": [],
   "source": [
    "with open('hightemp.txt', 'r') as f:\n",
    "    with open('col1.txt', 'w') as f1:\n",
    "        with open('col2.txt', 'w') as f2: #col1.txt, col2.txtというファイルが無ければ自動的に作成される\n",
    "            for data in f.readlines():\n",
    "                f1.write(data.split()[0] + '\\n') #1列目のデータをcol1.txtに書き込み\n",
    "                f2.write(data.split()[1] + '\\n')  #2列目のデータをcol2.txtに書き込み"
   ]
  },
  {
   "cell_type": "code",
   "execution_count": null,
   "metadata": {
    "collapsed": true,
    "deletable": true,
    "editable": true
   },
   "outputs": [],
   "source": []
  }
 ],
 "metadata": {
  "kernelspec": {
   "display_name": "Python 3",
   "language": "python",
   "name": "python3"
  },
  "language_info": {
   "codemirror_mode": {
    "name": "ipython",
    "version": 3
   },
   "file_extension": ".py",
   "mimetype": "text/x-python",
   "name": "python",
   "nbconvert_exporter": "python",
   "pygments_lexer": "ipython3",
   "version": "3.5.2"
  }
 },
 "nbformat": 4,
 "nbformat_minor": 2
}
