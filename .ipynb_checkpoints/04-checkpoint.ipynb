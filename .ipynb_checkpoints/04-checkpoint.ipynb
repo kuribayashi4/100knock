{
 "cells": [
  {
   "cell_type": "code",
   "execution_count": 80,
   "metadata": {
    "collapsed": false,
    "deletable": true,
    "editable": true
   },
   "outputs": [
    {
     "name": "stdout",
     "output_type": "stream",
     "text": [
      "[{'H': 1}, {'He': 2}, {'Li': 3}, {'Be': 4}, {'B': 5}, {'C': 6}, {'N': 7}, {'O': 8}, {'F': 9}, {'Ne': 10}, {'Na': 11}, {'Mi': 12}, {'Al': 13}, {'Si': 14}, {'P': 15}, {'S': 16}, {'Cl': 17}, {'Ar': 18}, {'K': 19}, {'Ca': 20}]\n"
     ]
    }
   ],
   "source": [
    "str = \"Hi He Lied Because Boron Could Not Oxidize Fluorine. New Nations Might Also Sign Peace Security Clause. Arthur King Can.\"\n",
    "num = [1, 5, 6, 7, 8, 9, 15, 16, 19] #1文字のみ取り出す単語の順番\n",
    "a = []\n",
    "c=1 #何番目の単語かを表す\n",
    "for x in str.split():\n",
    "    if c in num:\n",
    "        a.append({x[:1]:c}) #cがnumに含まれている数であれば１文字取り出す\n",
    "    else:\n",
    "        a.append({x[:2]:c}) #cがnumに含まれていない数であれば2文字取り出す\n",
    "    c += 1\n",
    "print(a)"
   ]
  },
  {
   "cell_type": "code",
   "execution_count": null,
   "metadata": {
    "collapsed": true,
    "deletable": true,
    "editable": true
   },
   "outputs": [],
   "source": [
    "\n"
   ]
  },
  {
   "cell_type": "code",
   "execution_count": null,
   "metadata": {
    "collapsed": true,
    "deletable": true,
    "editable": true
   },
   "outputs": [],
   "source": []
  }
 ],
 "metadata": {
  "kernelspec": {
   "display_name": "Python 3",
   "language": "python",
   "name": "python3"
  },
  "language_info": {
   "codemirror_mode": {
    "name": "ipython",
    "version": 3
   },
   "file_extension": ".py",
   "mimetype": "text/x-python",
   "name": "python",
   "nbconvert_exporter": "python",
   "pygments_lexer": "ipython3",
   "version": "3.5.2"
  }
 },
 "nbformat": 4,
 "nbformat_minor": 2
}
