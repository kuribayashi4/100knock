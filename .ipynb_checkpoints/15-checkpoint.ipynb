{
 "cells": [
  {
   "cell_type": "code",
   "execution_count": 9,
   "metadata": {
    "collapsed": false,
    "deletable": true,
    "editable": true
   },
   "outputs": [
    {
     "name": "stdout",
     "output_type": "stream",
     "text": [
      "N=32\n",
      "please input a number between 0 and 24. \n"
     ]
    }
   ],
   "source": [
    "N = int(input('N=')) #行数Nを受け取る\n",
    "with open('hightemp.txt', 'r') as f:\n",
    "    data = f.readlines()\n",
    "    if N < 0 or N > len(data):\n",
    "        print(\"please input a number between 0 and 24. \") #Nの値が適切か判断\n",
    "    else:\n",
    "        print(''.join(data[-N:])) #末尾のN行を表示"
   ]
  },
  {
   "cell_type": "code",
   "execution_count": null,
   "metadata": {
    "collapsed": true,
    "deletable": true,
    "editable": true
   },
   "outputs": [],
   "source": []
  }
 ],
 "metadata": {
  "kernelspec": {
   "display_name": "Python 3",
   "language": "python",
   "name": "python3"
  },
  "language_info": {
   "codemirror_mode": {
    "name": "ipython",
    "version": 3
   },
   "file_extension": ".py",
   "mimetype": "text/x-python",
   "name": "python",
   "nbconvert_exporter": "python",
   "pygments_lexer": "ipython3",
   "version": "3.5.2"
  }
 },
 "nbformat": 4,
 "nbformat_minor": 2
}
