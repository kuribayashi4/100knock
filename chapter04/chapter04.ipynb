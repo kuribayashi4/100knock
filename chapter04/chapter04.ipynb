{
 "cells": [
  {
   "cell_type": "markdown",
   "metadata": {
    "deletable": true,
    "editable": true
   },
   "source": [
    "# 第4章: 形態素解析"
   ]
  },
  {
   "cell_type": "markdown",
   "metadata": {
    "deletable": true,
    "editable": true
   },
   "source": [
    "夏目漱石の小説『吾輩は猫である』の文章（neko.txt）をMeCabを使って形態素解析し，その結果をneko.txt.mecabというファイルに保存せよ．このファイルを用いて，以下の問に対応するプログラムを実装せよ．\n",
    "\n",
    "なお，問題37, 38, 39はmatplotlibもしくはGnuplotを用いるとよい．"
   ]
  },
  {
   "cell_type": "markdown",
   "metadata": {
    "deletable": true,
    "editable": true
   },
   "source": [
    "## 目次\n",
    "* [30. 形態素解析結果の読み込み](#sec1)\n",
    "* [31. 動詞](#sec2)\n",
    "* [32. 動詞の原形](#sec3)\n",
    "* [33. サ変名詞](#sec4)\n",
    "* [34. AのB](#sec5)\n",
    "* [35. 名詞の連接](#sec6)\n",
    "* [36. 単語の出現頻度](#sec7)\n",
    "* [37. 頻出上位10語](#sec8)\n",
    "* [38. ヒストグラム](#sec9)\n",
    "* [39. Zipfの法則](#sec10)  \n",
    "\n",
    "## リンク\n",
    "吾輩は猫である ([neko.txt](http://www.cl.ecei.tohoku.ac.jp/nlp100/data/neko.txt))  \n",
    "\n",
    "## MeCab\n",
    "出力フォーマットは, **表層形\\t品詞,品詞細分類1,品詞細分類2,品詞細分類3,活用型,活用形,原形,読み,発音**"
   ]
  },
  {
   "cell_type": "code",
   "execution_count": 77,
   "metadata": {
    "collapsed": false,
    "deletable": true,
    "editable": true
   },
   "outputs": [],
   "source": [
    "!mecab data/neko.txt -o work/neko.txt.mecab"
   ]
  },
  {
   "cell_type": "code",
   "execution_count": 106,
   "metadata": {
    "collapsed": false,
    "deletable": true,
    "editable": true,
    "scrolled": true
   },
   "outputs": [
    {
     "name": "stdout",
     "output_type": "stream",
     "text": [
      "一\t名詞,数,*,*,*,*,一,イチ,イチ\r\n",
      "EOS\r\n",
      "EOS\r\n",
      "　\t記号,空白,*,*,*,*,　,　,　\r\n",
      "吾輩\t名詞,代名詞,一般,*,*,*,吾輩,ワガハイ,ワガハイ\r\n",
      "は\t助詞,係助詞,*,*,*,*,は,ハ,ワ\r\n",
      "猫\t名詞,一般,*,*,*,*,猫,ネコ,ネコ\r\n",
      "で\t助動詞,*,*,*,特殊・ダ,連用形,だ,デ,デ\r\n",
      "ある\t助動詞,*,*,*,五段・ラ行アル,基本形,ある,アル,アル\r\n",
      "。\t記号,句点,*,*,*,*,。,。,。\r\n",
      "EOS\r\n",
      "名前\t名詞,一般,*,*,*,*,名前,ナマエ,ナマエ\r\n",
      "は\t助詞,係助詞,*,*,*,*,は,ハ,ワ\r\n",
      "まだ\t副詞,助詞類接続,*,*,*,*,まだ,マダ,マダ\r\n",
      "無い\t形容詞,自立,*,*,形容詞・アウオ段,基本形,無い,ナイ,ナイ\r\n",
      "。\t記号,句点,*,*,*,*,。,。,。\r\n",
      "EOS\r\n",
      "EOS\r\n",
      "　\t記号,空白,*,*,*,*,　,　,　\r\n",
      "どこ\t名詞,代名詞,一般,*,*,*,どこ,ドコ,ドコ\r\n"
     ]
    }
   ],
   "source": [
    "!head -n 20 work/neko.txt.mecab"
   ]
  },
  {
   "cell_type": "markdown",
   "metadata": {
    "deletable": true,
    "editable": true
   },
   "source": [
    "# 30. 形態素解析結果の読み込み<a id=\"sec1\"></a>\n",
    "形態素解析結果（neko.txt.mecab）を読み込むプログラムを実装せよ．ただし，各形態素は表層形（surface），基本形（base），品詞（pos），品詞細分類1（pos1）をキーとするマッピング型に格納し，1文を形態素（マッピング型）のリストとして表現せよ．第4章の残りの問題では，ここで作ったプログラムを活用せよ．\n",
    "\n"
   ]
  },
  {
   "cell_type": "code",
   "execution_count": 17,
   "metadata": {
    "collapsed": false,
    "deletable": true,
    "editable": true
   },
   "outputs": [
    {
     "name": "stdout",
     "output_type": "stream",
     "text": [
      "Overwriting q30.py\n"
     ]
    }
   ],
   "source": [
    "%%file q30.py\n",
    "from itertools import groupby\n",
    "from pprint import pprint\n",
    "neko = []\n",
    "with open(\"work/neko.txt.mecab\", \"r\") as f:\n",
    "    for is_eos, sent_block in groupby(f, key=lambda x: x.strip() == \"EOS\"):\n",
    "        if not is_eos:\n",
    "            sentence = []\n",
    "            for line in sent_block:\n",
    "                details = line.rstrip().replace(\"\\t\", \",\").split(\",\")\n",
    "                morph = {\n",
    "                    \"surface\": details[0],\n",
    "                    \"base\": details[7],\n",
    "                    \"pos\": details[1],\n",
    "                    \"pos1\": details[2]\n",
    "                }\n",
    "                sentence.append(morph)\n",
    "            neko.append(sentence)"
   ]
  },
  {
   "cell_type": "markdown",
   "metadata": {
    "deletable": true,
    "editable": true
   },
   "source": [
    "# 31.動詞<a id=\"sec2\"></a>\n",
    "動詞の表層形をすべて抽出せよ．"
   ]
  },
  {
   "cell_type": "code",
   "execution_count": 18,
   "metadata": {
    "collapsed": false,
    "deletable": true,
    "editable": true
   },
   "outputs": [
    {
     "name": "stdout",
     "output_type": "stream",
     "text": [
      "Overwriting q31.py\n"
     ]
    }
   ],
   "source": [
    "%%file q31.py\n",
    "from q30 import neko\n",
    "verb_surface = {word['surface'] for sentence in neko for word in sentence if word['pos'] == \"動詞\"}\n",
    "print(verb_surface)"
   ]
  },
  {
   "cell_type": "markdown",
   "metadata": {
    "deletable": true,
    "editable": true
   },
   "source": [
    "# 32. 動詞の原形<a id=\"sec3\"></a>\n",
    "動詞の原形をすべて抽出せよ"
   ]
  },
  {
   "cell_type": "code",
   "execution_count": 20,
   "metadata": {
    "collapsed": false,
    "deletable": true,
    "editable": true
   },
   "outputs": [
    {
     "name": "stdout",
     "output_type": "stream",
     "text": [
      "Overwriting q32.py\n"
     ]
    }
   ],
   "source": [
    "%%file q32.py\n",
    "from q30 import neko\n",
    "verb_surface = {word['base'] for sentence in neko for word in sentence if word['pos'] == \"動詞\"}"
   ]
  },
  {
   "cell_type": "markdown",
   "metadata": {
    "deletable": true,
    "editable": true
   },
   "source": [
    "# 33. サ変名詞<a id=\"sec3\"></a>\n",
    "サ変接続の名詞をすべて抽出せよ．"
   ]
  },
  {
   "cell_type": "code",
   "execution_count": 21,
   "metadata": {
    "collapsed": false,
    "deletable": true,
    "editable": true
   },
   "outputs": [
    {
     "name": "stdout",
     "output_type": "stream",
     "text": [
      "Overwriting q33.py\n"
     ]
    }
   ],
   "source": [
    "%%file q33.py\n",
    "from q30 import neko\n",
    "verb_surface = {word['base'] for sentence in neko for word in sentence if word['pos1'] == \"サ変接続\"}"
   ]
  },
  {
   "cell_type": "markdown",
   "metadata": {
    "deletable": true,
    "editable": true
   },
   "source": [
    "# 34. 「AのB」<a id=\"sec4\"></a>\n",
    "2つの名詞が「の」で連結されている名詞句を抽出せよ"
   ]
  },
  {
   "cell_type": "code",
   "execution_count": 22,
   "metadata": {
    "collapsed": false,
    "deletable": true,
    "editable": true
   },
   "outputs": [
    {
     "name": "stdout",
     "output_type": "stream",
     "text": [
      "Overwriting q34.py\n"
     ]
    }
   ],
   "source": [
    "%%file q34.py\n",
    "from q30 import neko\n",
    "connected_no = {sentence[i]['surface'] + \"の\" + sentence[i+2]['surface'] \n",
    "             for sentence in neko \n",
    "                 for i in range(len(sentence) - 2) \n",
    "                     if all((sentence[i]['pos'] == \"名詞\", sentence[i+1]['surface'] == \"の\",\n",
    "                         sentence[i+2]['pos'] == \"名詞\"))}"
   ]
  },
  {
   "cell_type": "markdown",
   "metadata": {
    "deletable": true,
    "editable": true
   },
   "source": [
    "# 35. 名詞の連接<a id=\"sec5\"></a>\n",
    "名詞の連接（連続して出現する名詞）を最長一致で抽出せよ．"
   ]
  },
  {
   "cell_type": "code",
   "execution_count": 23,
   "metadata": {
    "collapsed": false,
    "deletable": true,
    "editable": true
   },
   "outputs": [
    {
     "name": "stdout",
     "output_type": "stream",
     "text": [
      "Overwriting q35.py\n"
     ]
    }
   ],
   "source": [
    "%%file q35.py\n",
    "from q30 import neko\n",
    "from itertools import groupby\n",
    "connected_noun = set()\n",
    "for sentence in neko:\n",
    "    for is_noun, noun_block in groupby(sentence, lambda x: x['pos'] == \"名詞\"):\n",
    "        if is_noun :\n",
    "            nouns = list(noun_block)\n",
    "            if len(nouns) > 1:\n",
    "                connected_noun.add(\"\".join(noun['surface'] for noun in nouns))\n",
    "print(connected_noun)"
   ]
  },
  {
   "cell_type": "markdown",
   "metadata": {
    "deletable": true,
    "editable": true
   },
   "source": [
    "# 36. 単語の出現頻度<a id=\"sec6\"></a>\n",
    "文章中に出現する単語とその出現頻度を求め，出現頻度の高い順に並べよ．"
   ]
  },
  {
   "cell_type": "code",
   "execution_count": 24,
   "metadata": {
    "collapsed": false,
    "deletable": true,
    "editable": true
   },
   "outputs": [
    {
     "name": "stdout",
     "output_type": "stream",
     "text": [
      "Writing q36.py\n"
     ]
    }
   ],
   "source": [
    "%%file q36.py\n",
    "from collections import Counter\n",
    "from q30 import neko\n",
    "all_words = (word['base'] for sentence in neko for word in sentence)\n",
    "count_words = Counter(all_words)\n",
    "print(count_words.most_common(10))"
   ]
  },
  {
   "cell_type": "markdown",
   "metadata": {
    "deletable": true,
    "editable": true
   },
   "source": [
    "# 37. 頻度上位10語<a id=\"sec7\"></a>\n",
    "出現頻度が高い10語とその出現頻度をグラフ（例えば棒グラフなど）で表示せよ"
   ]
  },
  {
   "cell_type": "markdown",
   "metadata": {
    "deletable": true,
    "editable": true
   },
   "source": [
    "グラフmatplotlibが基本  \n",
    "seabornなどはmatplotlibのAPIにアクセスしている  \n",
    "pandasからグラフを作るのも便利  \n",
    "サーバーに入っているフォントを使うと良い  \n",
    "VL_Gothic  \n",
    "TakaoPGothic  \n",
    "matplotlib.rc('pdf', fonttype=42)  \n",
    "plt.xkcd()"
   ]
  },
  {
   "cell_type": "code",
   "execution_count": 26,
   "metadata": {
    "collapsed": false,
    "deletable": true,
    "editable": true,
    "scrolled": true
   },
   "outputs": [
    {
     "ename": "NameError",
     "evalue": "name 'count_words' is not defined",
     "output_type": "error",
     "traceback": [
      "\u001b[0;31m--------------------------------------------------------------------------\u001b[0m",
      "\u001b[0;31mNameError\u001b[0m                                Traceback (most recent call last)",
      "\u001b[0;32m<ipython-input-26-b3b8cac64239>\u001b[0m in \u001b[0;36m<module>\u001b[0;34m()\u001b[0m\n\u001b[1;32m      7\u001b[0m \u001b[0;34m\u001b[0m\u001b[0m\n\u001b[1;32m      8\u001b[0m \u001b[0mlabel\u001b[0m\u001b[0;34m,\u001b[0m \u001b[0my\u001b[0m \u001b[0;34m=\u001b[0m \u001b[0;34m[\u001b[0m\u001b[0;34m]\u001b[0m\u001b[0;34m,\u001b[0m \u001b[0;34m[\u001b[0m\u001b[0;34m]\u001b[0m\u001b[0;34m\u001b[0m\u001b[0m\n\u001b[0;32m----> 9\u001b[0;31m \u001b[0;32mfor\u001b[0m \u001b[0mword\u001b[0m\u001b[0;34m,\u001b[0m \u001b[0mi\u001b[0m \u001b[0;32min\u001b[0m \u001b[0mcount_words\u001b[0m\u001b[0;34m.\u001b[0m\u001b[0mmost_common\u001b[0m\u001b[0;34m(\u001b[0m\u001b[0;36m10\u001b[0m\u001b[0;34m)\u001b[0m\u001b[0;34m:\u001b[0m\u001b[0;34m\u001b[0m\u001b[0m\n\u001b[0m\u001b[1;32m     10\u001b[0m     \u001b[0mlabel\u001b[0m\u001b[0;34m.\u001b[0m\u001b[0mappend\u001b[0m\u001b[0;34m(\u001b[0m\u001b[0mword\u001b[0m\u001b[0;34m)\u001b[0m\u001b[0;34m\u001b[0m\u001b[0m\n\u001b[1;32m     11\u001b[0m     \u001b[0my\u001b[0m\u001b[0;34m.\u001b[0m\u001b[0mappend\u001b[0m\u001b[0;34m(\u001b[0m\u001b[0mi\u001b[0m\u001b[0;34m)\u001b[0m\u001b[0;34m\u001b[0m\u001b[0m\n",
      "\u001b[0;31mNameError\u001b[0m: name 'count_words' is not defined"
     ]
    }
   ],
   "source": [
    "%matplotlib inline\n",
    "import matplotlib.pyplot as plt\n",
    "import seaborn as sns\n",
    "#plt.style.use(\"classic\")\n",
    "sns.set(font='AppleGothic')\n",
    "#sns.set(font='VL_Gothic')\n",
    "\n",
    "label, y = [], []\n",
    "for word, i in count_words.most_common(10):\n",
    "    label.append(word)\n",
    "    y.append(i)\n",
    "x = [i for i in range(10)]\n",
    "plt.bar(x, y, tick_label =label, align=\"center\")\n",
    "plt.ylabel(\"frequency\", fontsize=20)\n",
    "plt.show()"
   ]
  },
  {
   "cell_type": "markdown",
   "metadata": {
    "deletable": true,
    "editable": true
   },
   "source": [
    "# 38. ヒストグラム<a id=\"sec8\"></a>\n",
    "単語の出現頻度のヒストグラム（横軸に出現頻度，縦軸に出現頻度をとる単語の種類数を棒グラフで表したもの）を描け．"
   ]
  },
  {
   "cell_type": "markdown",
   "metadata": {
    "deletable": true,
    "editable": true
   },
   "source": [
    "%matplotlib inline書こう\n",
    "takaogothic\n",
    "osaka\n",
    "matplotlib.font_manager\n",
    "np.array.astype(この型だと思ってください)思えないとエラー(str→int)"
   ]
  },
  {
   "cell_type": "code",
   "execution_count": 113,
   "metadata": {
    "collapsed": false,
    "deletable": true,
    "editable": true
   },
   "outputs": [
    {
     "data": {
      "image/png": "[encoded data removed]",
      "text/plain": [
       "<matplotlib.figure.Figure at 0x115c76a20>"
      ]
     },
     "metadata": {},
     "output_type": "display_data"
    }
   ],
   "source": [
    "%matplotlib inline\n",
    "import matplotlib.pyplot as plt\n",
    "y = [c for _, c in count_words.most_common()]\n",
    "plt.hist(y,bins=10, log=True)\n",
    "plt.xlabel(\"frequency\", fontsize=20)\n",
    "plt.ylabel(\"The number of word types\", fontsize=20)\n",
    "plt.show()"
   ]
  },
  {
   "cell_type": "markdown",
   "metadata": {
    "deletable": true,
    "editable": true
   },
   "source": [
    "# 39. Zipfの法則<a id=\"sec9\"></a>\n",
    "単語の出現頻度順位を横軸，その出現頻度を縦軸として，両対数グラフをプロットせよ．"
   ]
  },
  {
   "cell_type": "code",
   "execution_count": null,
   "metadata": {
    "collapsed": true,
    "deletable": true,
    "editable": true
   },
   "outputs": [],
   "source": [
    "出現頻度の低い単語は学習されにくい→ on the fly  \n",
    "pandasが便利そう  \n",
    "必要になった時に調べれば良い  "
   ]
  },
  {
   "cell_type": "code",
   "execution_count": 125,
   "metadata": {
    "collapsed": false,
    "deletable": true,
    "editable": true,
    "scrolled": true
   },
   "outputs": [
    {
     "data": {
      "image/png": "[encoded data removed]",
      "text/plain": [
       "<matplotlib.figure.Figure at 0x10f157c88>"
      ]
     },
     "metadata": {},
     "output_type": "display_data"
    }
   ],
   "source": [
    "%matplotlib inline\n",
    "import matplotlib.pyplot as plt\n",
    "freq = [c for _, c in count_words.most_common()]\n",
    "uniq_freq = sorted(freq, reverse = True)\n",
    "x = [i for i in range(len(uniq_freq))]\n",
    "plt.loglog(x,freq)\n",
    "plt.xlabel(\"frequency rank\", fontsize=20)\n",
    "plt.ylabel(\"frequency\", fontsize=20)\n",
    "plt.show()"
   ]
  }
 ],
 "metadata": {
  "kernelspec": {
   "display_name": "Python 3",
   "language": "python",
   "name": "python3"
  },
  "language_info": {
   "codemirror_mode": {
    "name": "ipython",
    "version": 3
   },
   "file_extension": ".py",
   "mimetype": "text/x-python",
   "name": "python",
   "nbconvert_exporter": "python",
   "pygments_lexer": "ipython3",
   "version": "3.5.2"
  }
 },
 "nbformat": 4,
 "nbformat_minor": 2
}
