{
 "cells": [
  {
   "cell_type": "markdown",
   "metadata": {
    "deletable": true,
    "editable": true
   },
   "source": [
    "# 00.文字列の逆順"
   ]
  },
  {
   "cell_type": "markdown",
   "metadata": {
    "deletable": true,
    "editable": true
   },
   "source": [
    "## [before]"
   ]
  },
  {
   "cell_type": "code",
   "execution_count": null,
   "metadata": {
    "collapsed": true,
    "deletable": true,
    "editable": true
   },
   "outputs": [],
   "source": [
    "\"\"\"\n",
    "str = 'stressed'\n",
    "str_reverse = str[::-1] #[start:end:step]\n",
    "print(str_reverse)\n",
    "\"\"\""
   ]
  },
  {
   "cell_type": "markdown",
   "metadata": {
    "deletable": true,
    "editable": true
   },
   "source": [
    "## [after]"
   ]
  },
  {
   "cell_type": "code",
   "execution_count": 34,
   "metadata": {
    "collapsed": false,
    "deletable": true,
    "editable": true
   },
   "outputs": [
    {
     "name": "stdout",
     "output_type": "stream",
     "text": [
      "desserts\n"
     ]
    }
   ],
   "source": [
    "msg = \"stressed\"\n",
    "print(msg[::-1])"
   ]
  },
  {
   "cell_type": "markdown",
   "metadata": {
    "collapsed": true,
    "deletable": true,
    "editable": true
   },
   "source": [
    "### [memo]\n",
    "strという関数と名前が衝突"
   ]
  },
  {
   "cell_type": "markdown",
   "metadata": {
    "deletable": true,
    "editable": true
   },
   "source": [
    "# 01.パタトクカシー"
   ]
  },
  {
   "cell_type": "markdown",
   "metadata": {
    "deletable": true,
    "editable": true
   },
   "source": [
    "## [before]"
   ]
  },
  {
   "cell_type": "code",
   "execution_count": 73,
   "metadata": {
    "collapsed": false,
    "deletable": true,
    "editable": true
   },
   "outputs": [
    {
     "data": {
      "text/plain": [
       "'str=\"パタトクカシーー\"\\nstr_odd=str[1:8:2] #[start:end:step]\\nstr_odd=str[::2]\\nprint(str_odd)\\n'"
      ]
     },
     "execution_count": 73,
     "metadata": {},
     "output_type": "execute_result"
    }
   ],
   "source": [
    "\"\"\"str=\"パタトクカシーー\"\n",
    "str_odd=str[1:8:2] #[start:end:step]\n",
    "str_odd=str[::2]\n",
    "print(str_odd)\n",
    "\"\"\""
   ]
  },
  {
   "cell_type": "markdown",
   "metadata": {
    "deletable": true,
    "editable": true
   },
   "source": [
    "## [after]"
   ]
  },
  {
   "cell_type": "code",
   "execution_count": 77,
   "metadata": {
    "collapsed": false,
    "deletable": true,
    "editable": true
   },
   "outputs": [
    {
     "name": "stdout",
     "output_type": "stream",
     "text": [
      "パトカー\n"
     ]
    }
   ],
   "source": [
    "msg = \"パタトクカシーー\"\n",
    "print(msg[::2])"
   ]
  },
  {
   "cell_type": "markdown",
   "metadata": {
    "deletable": true,
    "editable": true
   },
   "source": [
    "# 02.「パトカー」＋「タクシー」＝「パタトクカシーー」"
   ]
  },
  {
   "cell_type": "markdown",
   "metadata": {
    "deletable": true,
    "editable": true
   },
   "source": [
    "## [before]"
   ]
  },
  {
   "cell_type": "code",
   "execution_count": 7,
   "metadata": {
    "collapsed": false,
    "deletable": true,
    "editable": true
   },
   "outputs": [
    {
     "name": "stdout",
     "output_type": "stream",
     "text": [
      "パタトクカシーー\n"
     ]
    }
   ],
   "source": [
    "str_p = \"パトカー\"\n",
    "str_t = \"タクシー\"\n",
    "str_pt = \"\"\n",
    "#for x in range(max(len(str_p), len(str_t))):\n",
    "for x in range(min(len(str_p), len(str_t))):\n",
    "    str_pt += (str_p[x] + str_t[x]) #各文字列の先頭から順に結合したものを、結合していく #zipを使えば良い\n",
    "print(str_pt)"
   ]
  },
  {
   "cell_type": "markdown",
   "metadata": {
    "deletable": true,
    "editable": true
   },
   "source": [
    "## [after]"
   ]
  },
  {
   "cell_type": "code",
   "execution_count": 31,
   "metadata": {
    "collapsed": false,
    "deletable": true,
    "editable": true
   },
   "outputs": [
    {
     "data": {
      "text/plain": [
       "'パタトクカシーー'"
      ]
     },
     "execution_count": 31,
     "metadata": {},
     "output_type": "execute_result"
    }
   ],
   "source": [
    "str_p = \"パトカー\"\n",
    "str_t = \"タクシー\"\n",
    "''.join([i + j for i,j in zip(str_p, str_t)])"
   ]
  },
  {
   "cell_type": "code",
   "execution_count": 77,
   "metadata": {
    "collapsed": false,
    "deletable": true,
    "editable": true
   },
   "outputs": [
    {
     "name": "stdout",
     "output_type": "stream",
     "text": [
      "パタトクカシーー\n",
      "\n",
      "\n",
      "('パ', 'タ')\n",
      "('ト', 'ク')\n",
      "('カ', 'シ')\n",
      "('ー', 'ー')\n",
      "\n",
      "\n",
      "\n",
      "パタトクカシーー"
     ]
    },
    {
     "ename": "StopIteration",
     "evalue": "",
     "output_type": "error",
     "traceback": [
      "\u001b[0;31m---------------------------------------------------------------------------\u001b[0m",
      "\u001b[0;31mStopIteration\u001b[0m                             Traceback (most recent call last)",
      "\u001b[0;32m<ipython-input-77-1aabaa19de7f>\u001b[0m in \u001b[0;36m<module>\u001b[0;34m()\u001b[0m\n\u001b[1;32m     16\u001b[0m \u001b[0mprint\u001b[0m\u001b[0;34m(\u001b[0m\u001b[0mnext\u001b[0m\u001b[0;34m(\u001b[0m\u001b[0mgen\u001b[0m\u001b[0;34m)\u001b[0m\u001b[0;34m,\u001b[0m \u001b[0mend\u001b[0m\u001b[0;34m=\u001b[0m\u001b[0;34m\"\"\u001b[0m\u001b[0;34m)\u001b[0m\u001b[0;34m\u001b[0m\u001b[0m\n\u001b[1;32m     17\u001b[0m \u001b[0mprint\u001b[0m\u001b[0;34m(\u001b[0m\u001b[0mnext\u001b[0m\u001b[0;34m(\u001b[0m\u001b[0mgen\u001b[0m\u001b[0;34m)\u001b[0m\u001b[0;34m,\u001b[0m \u001b[0mend\u001b[0m\u001b[0;34m=\u001b[0m\u001b[0;34m\"\"\u001b[0m\u001b[0;34m)\u001b[0m\u001b[0;34m\u001b[0m\u001b[0m\n\u001b[0;32m---> 18\u001b[0;31m \u001b[0mprint\u001b[0m\u001b[0;34m(\u001b[0m\u001b[0mnext\u001b[0m\u001b[0;34m(\u001b[0m\u001b[0mgen\u001b[0m\u001b[0;34m)\u001b[0m\u001b[0;34m)\u001b[0m\u001b[0;34m\u001b[0m\u001b[0m\n\u001b[0m",
      "\u001b[0;31mStopIteration\u001b[0m: "
     ]
    }
   ],
   "source": [
    "str_p = \"パトカー\"\n",
    "str_t = \"タクシー\"\n",
    "for i in range(4):\n",
    "    print(\"{}{}\".format(str_p[i], str_t[i]), end=\"\")\n",
    "\n",
    "print(\"\\n\\n\")\n",
    "gen = zip(msg_p, msg_t)\n",
    "for i in range(len(msg_p)):\n",
    "    print(next(gen))\n",
    "    \n",
    "print(\"\\n\\n\")\n",
    "gen = (i+j for i,j in zip(msg_p, msg_t))\n",
    "print(next(gen), end=\"\")\n",
    "a = next(gen)\n",
    "print(a, end=\"\")\n",
    "print(next(gen), end=\"\")\n",
    "print(next(gen), end=\"\")\n",
    "print(next(gen))"
   ]
  },
  {
   "cell_type": "markdown",
   "metadata": {
    "collapsed": false,
    "deletable": true,
    "editable": true
   },
   "source": [
    "### [memo]  \n",
    "タプルは変更できない pop等できない ()は省略できる  \n",
    "リストは変更できる  \n",
    "中身を変更する必要がない場合はタプルを用いる  \n",
    "formatを用いても良い(\"{0}{1}\".format(text1[i], text2[i]), end=\"\") ←01は省略化  \n",
    "printは遅い、joinは速い  \n",
    "''.join([c1 + c2 for c1, c2 in zip(s1, s2)])　出来上がったリストを連結　速い  \n",
    "''.join(c1 + c2 for c1, c2 in zip(s1, s2))　毎回連結　遅い  \n",
    "(c1 + c2 for c1, c2 in zip(s1, s2)) ←ジェネレータオブジェクト、まだ作られていない  \n",
    "list(c1 + c2 for c1, c2 in zip(s1, s2)) ←リストの作成  \n",
    "for文 next()で出力  "
   ]
  },
  {
   "cell_type": "markdown",
   "metadata": {
    "deletable": true,
    "editable": true
   },
   "source": [
    "# 03.円周率 "
   ]
  },
  {
   "cell_type": "markdown",
   "metadata": {
    "deletable": true,
    "editable": true
   },
   "source": [
    "## [before]"
   ]
  },
  {
   "cell_type": "code",
   "execution_count": 13,
   "metadata": {
    "collapsed": false,
    "deletable": true,
    "editable": true
   },
   "outputs": [
    {
     "data": {
      "text/plain": [
       "'str = \"Now I need a drink, alcoholic of course, after the heavy lectures involving quantum mechanics.\"\\nwords_length = []\\nfor x in str.split():\\n    words_length.append(len(re.findall(\\'[a-zA-Z]\\', x))) #アルファベットの大文字小文字のみをカウント\\nprint(words_length)\\n'"
      ]
     },
     "execution_count": 13,
     "metadata": {},
     "output_type": "execute_result"
    }
   ],
   "source": [
    "import re\n",
    "'''str = \"Now I need a drink, alcoholic of course, after the heavy lectures involving quantum mechanics.\"\n",
    "words_length = []\n",
    "for x in str.split():\n",
    "    words_length.append(len(re.findall('[a-zA-Z]', x))) #アルファベットの大文字小文字のみをカウント\n",
    "print(words_length)\n",
    "'''"
   ]
  },
  {
   "cell_type": "markdown",
   "metadata": {
    "deletable": true,
    "editable": true
   },
   "source": [
    "## [after]"
   ]
  },
  {
   "cell_type": "code",
   "execution_count": 150,
   "metadata": {
    "collapsed": false,
    "deletable": true,
    "editable": true
   },
   "outputs": [
    {
     "name": "stdout",
     "output_type": "stream",
     "text": [
      "[3, 1, 4, 1, 5, 9, 2, 6, 5, 3, 5, 8, 9, 7, 9]\n",
      "[3, 1, 4, 1, 5, 9, 2, 6, 5, 3, 5, 8, 9, 7, 9]\n",
      "[3, 1, 4, 1, 5, 9, 2, 6, 5, 3, 5, 8, 9, 7, 9]\n",
      "[3, 1, 4, 1, 5, 9, 2, 6, 5, 3, 5, 8, 9, 7, 9]\n",
      "[3, 1, 4, 1, 5, 9, 2, 6, 5, 3, 5, 8, 9, 7, 9]\n",
      "['Now', 'I', 'need', 'a', 'drink,', 'alcoholic', 'of', 'course,', 'after', 'the', 'heavy', 'lectures', 'involving', 'quantum', 'mechanics.']\n",
      "['Now I need ', ' drink, ', 'lcoholic of course, ', 'fter the he', 'vy lectures involving qu', 'ntum mech', 'nics.']\n",
      "[3, 1, 4, 1, 5, 9, 2, 6, 5, 3, 5, 8, 9, 7, 9]\n"
     ]
    }
   ],
   "source": [
    "import re\n",
    "sentence = \"Now I need a drink, alcoholic of course, after the heavy lectures involving quantum mechanics.\"\n",
    "a = [len(re.findall('[a-zA-Z]', i)) for i in sentence.split()] #アルファベットの大文字小文字のみをカウント\n",
    "print(a)\n",
    "b = [len(re.sub('[,.]', '', i)) for i in sentence.split()]\n",
    "print(b)\n",
    "c = [len(words.replace(\",\", \"\").replace(\".\", \"\")) for words in sentence.split()]\n",
    "print(c)\n",
    "d = [len(words.strip(\",.\")) for words in sentence.split()]\n",
    "print(d)\n",
    "e = [len(i)-len(re.findall(r'[,.]', i)) for i in sentence.split()] #アルファベットの大文字小文字のみをカウント\n",
    "print(e)\n",
    "print(sentence.split())\n",
    "print(sentence.split(\"a\"))\n",
    "print([len(word) for word in (filter(lambda x:len(x) > 0, re.split(\"\\W\", sentence)))])"
   ]
  },
  {
   "cell_type": "markdown",
   "metadata": {
    "collapsed": false,
    "deletable": true,
    "editable": true
   },
   "source": [
    "### [memo]  \n",
    "[i*2 for i in range(10) if i % 2 ==0] if文がフィルターになる mapとfilter  \n",
    "関数をlambdaで書く  \n",
    "def f(x):  \n",
    "return x  \n",
    "f = (lambda x: x)  \n",
    "filter(lambda条件式,対象)  \n",
    "正規表現r''のrはエスケープ文字情報を無視して記号としてみる []内部だとエスケープ機能が死ぬ  \n",
    "[]内ではorがいらない  \n",
    "translate  \n",
    "split()とsplit(' ')の挙動は違う　split()は空白系全て除去  \n",
    "\\W　英字以外の文字  \n",
    "正規表現は遅い  \n",
    "strip() lstrip() rstrip()  \n",
    "%%timeitで時間計測  "
   ]
  },
  {
   "cell_type": "markdown",
   "metadata": {
    "deletable": true,
    "editable": true
   },
   "source": [
    "# 04. 元素記号"
   ]
  },
  {
   "cell_type": "markdown",
   "metadata": {
    "deletable": true,
    "editable": true
   },
   "source": [
    "## [before]"
   ]
  },
  {
   "cell_type": "code",
   "execution_count": 13,
   "metadata": {
    "collapsed": false,
    "deletable": true,
    "editable": true
   },
   "outputs": [
    {
     "name": "stdout",
     "output_type": "stream",
     "text": [
      "{'F': 9, 'Ne': 10, 'Li': 3, 'Si': 14, 'P': 15, 'H': 1, 'Be': 4, 'Mi': 12, 'S': 16, 'Na': 11, 'Al': 13, 'C': 6, 'He': 2, 'Cl': 17, 'B': 5, 'O': 8, 'N': 7, 'K': 19, 'Ar': 18, 'Ca': 20}\n"
     ]
    }
   ],
   "source": [
    "msg = \"Hi He Lied Because Boron Could Not Oxidize Fluorine. New Nations Might Also Sign Peace Security Clause. Arthur King Can.\"\n",
    "num = (1, 5, 6, 7, 8, 9, 15, 16, 19) #1文字だけ取り出す単語の順番\n",
    "words = msg.split()\n",
    "a = {words[i][:1] if i+1 in num else (words[i][:2]) :i+1 for i in range(len(words))}\n",
    "print(a)"
   ]
  },
  {
   "cell_type": "markdown",
   "metadata": {
    "deletable": true,
    "editable": true
   },
   "source": [
    "## [after]"
   ]
  },
  {
   "cell_type": "code",
   "execution_count": 161,
   "metadata": {
    "collapsed": false,
    "deletable": true,
    "editable": true
   },
   "outputs": [
    {
     "name": "stdout",
     "output_type": "stream",
     "text": [
      "{'C': 5, 'Na': 10, 'Ne': 9, 'N': 6, 'He': 1, 'S': 15, 'Li': 2, 'Si': 13, 'P': 14, 'Cl': 16, 'B': 4, 'F': 8, 'K': 18, 'Ca': 19, 'Ar': 17, 'Mi': 11, 'Al': 12, 'H': 0, 'O': 7, 'Be': 3}\n",
      "{'C': 6, 'Na': 11, 'Ne': 10, 'N': 7, 'He': 2, 'S': 16, 'Li': 3, 'Si': 14, 'P': 15, 'Cl': 17, 'B': 5, 'F': 9, 'K': 19, 'Ca': 20, 'Ar': 18, 'Mi': 12, 'Al': 13, 'H': 1, 'O': 8, 'Be': 4}\n"
     ]
    }
   ],
   "source": [
    "def main():\n",
    "    msg = \"Hi He Lied Because Boron Could Not Oxidize Fluorine. New Nations Might Also Sign Peace Security Clause. Arthur King Can.\"\n",
    "    num = (1, 5, 6, 7, 8, 9, 15, 16, 19)\n",
    "    a = {j[:1] if i+1 in num else j[:2] :i for i,j in enumerate(msg.split())}\n",
    "    print(a)\n",
    "    b = {j[:int(i not in num) +1]:i for i,j in enumerate(msg.split(), start=1)}\n",
    "    print(b)\n",
    "if __name__ == \"__main__\":\n",
    "    main()"
   ]
  },
  {
   "cell_type": "code",
   "execution_count": 49,
   "metadata": {
    "collapsed": false,
    "deletable": true,
    "editable": true
   },
   "outputs": [
    {
     "data": {
      "text/plain": [
       "{'a': 'hoge', 'b': 'hage'}"
      ]
     },
     "execution_count": 49,
     "metadata": {},
     "output_type": "execute_result"
    }
   ],
   "source": [
    "dict((a,b) for a, b in zip(['a', 'b'], ['hoge', 'hage']))"
   ]
  },
  {
   "cell_type": "markdown",
   "metadata": {
    "deletable": true,
    "editable": true
   },
   "source": [
    "### [memo]  \n",
    "numは変更しないのでtapleで良い  \n",
    "enumerateはイテレートできるものを受け取って、番号を付与する(タプル)、startで番号の始まりを定義  \n",
    "shift+tabでヘルプ  \n",
    "l = list(range(100000))  \n",
    "99999 in l ←遅い  \n",
    "1 in l ←速い  \n",
    "先頭から調べている 探索O(n)  \n",
    "\n",
    "l = set(range(100000))  \n",
    "99999 in l ←速い  \n",
    "1 in l ←速い  \n",
    "setはハッシュテーブル 探索O(1)  \n",
    "しかし集合を作るのには時間がかかる  \n",
    "if __name__ = \"__main__\": mainとして実行した時のみ呼び出される  \n",
    "グローバルの変数環境を汚したくない場合は実行部分をmain()関数で書けば良い \n",
    "if __name__ = \"__main__\":  \n",
    "    main() おまじない  \n",
    "””１行でしか書けない→\\を入れると複数行で書ける(しかしスペースが入る)。  \n",
    "あるいは、  \n",
    "(\"○○\"  \n",
    "\"○○\")→改行入らない  \n",
    "\"\"\"  \n",
    "○○○  \n",
    "○○○  \n",
    "\"\"\"→改行、スペース入る  \n",
    "dict.update()  \n",
    "dashというソフト  \n",
    "{}  \n",
    "dict((a,b) for a, b in zip(['a', 'b'], ['hoge', 'hage']))  \n",
    "starmap(function, iterable)  \n",
    "!を入れるとコマンドを  "
   ]
  },
  {
   "cell_type": "markdown",
   "metadata": {
    "deletable": true,
    "editable": true
   },
   "source": [
    "# 05. n-gram"
   ]
  },
  {
   "cell_type": "markdown",
   "metadata": {
    "collapsed": true,
    "deletable": true,
    "editable": true
   },
   "source": [
    "### [memo]  \n",
    "標準出力：print  \n",
    "標準エラー出力：import sys sys.stderr.write(\"\")  \n",
    "→sys.exit(1)  \n",
    "0は正常終了  \n",
    "0以外(通常1)異常終了  \n",
    "\n",
    "↓スライスを使えない型がwordsに来た場合を考慮するとなお良い  \n",
    "deque  \n",
    "イテレータはポインタのような概念がある(順に読み込んで消費していくもの)  \n",
    "ほとんどすべての型はイテレータになれる  \n",
    "\n",
    "NLTK  \n",
    "jupyterlab  "
   ]
  },
  {
   "cell_type": "code",
   "execution_count": 5,
   "metadata": {
    "collapsed": false,
    "deletable": true,
    "editable": true
   },
   "outputs": [
    {
     "name": "stdout",
     "output_type": "stream",
     "text": [
      "[['I', 'am'], ['am', 'an'], ['an', 'NLPer']] \n",
      " ['I ', ' a', 'am', 'm ', ' a', 'an', 'n ', ' N', 'NL', 'LP', 'Pe', 'er']\n"
     ]
    }
   ],
   "source": [
    "def n_gram(words, n):\n",
    "    return [words[i:i+n] for i in range(len(words) - n + 1)]\n",
    "def main():\n",
    "    msg = \"I am an NLPer\"\n",
    "    print(n_gram(msg.split(), 2),'\\n', n_gram(msg, 2))\n",
    "\n",
    "if __name__ == \"__main__\":\n",
    "    main()"
   ]
  },
  {
   "cell_type": "markdown",
   "metadata": {
    "deletable": true,
    "editable": true
   },
   "source": [
    "# 06. 集合"
   ]
  },
  {
   "cell_type": "markdown",
   "metadata": {
    "collapsed": true,
    "deletable": true,
    "editable": true
   },
   "source": [
    "### [memo]  \n",
    "^は排他的論理和  \n",
    "&は論理積  \n",
    "集合と命題  \n",
    "集合にANDやORを用いるのはやや違和感  "
   ]
  },
  {
   "cell_type": "code",
   "execution_count": 4,
   "metadata": {
    "collapsed": false,
    "deletable": true,
    "editable": true
   },
   "outputs": [
    {
     "name": "stdout",
     "output_type": "stream",
     "text": [
      "X =  {'is', 'pa', 'ap', 'di', 'ra', 'ad', 'ar', 'se'}\n",
      "Y =  {'pa', 'ap', 'ra', 'ar', 'gr', 'ph', 'ag'}\n",
      "X|Y =  {'is', 'pa', 'ap', 'di', 'ra', 'ad', 'ar', 'gr', 'ph', 'se', 'ag'}\n",
      "X^Y =  {'gr', 'is', 'ph', 'di', 'se', 'ag', 'ad'}\n",
      "X-Y =  {'se', 'di', 'is', 'ad'}\n",
      "Y-X =  {'ag', 'gr', 'ph'}\n",
      "'se' exists in X\n",
      "'se' doesn't exist in Y\n"
     ]
    }
   ],
   "source": [
    "def n_gram(words, n):\n",
    "    return [words[i:i+n] for i in range(len(words) - n + 1)]\n",
    "def main():\n",
    "    str_1 = \"paraparaparadise\"\n",
    "    str_2 = \"paragraph\"\n",
    "    X = set(n_gram(str_1, 2)) #set型にすることで集合演算が可能に、重複する要素は削除\n",
    "    Y = set(n_gram(str_2, 2))\n",
    "    print(\"X = \", X)\n",
    "    print(\"Y = \", Y)\n",
    "    print(\"X|Y = \" , X|Y) #和集合\n",
    "    print(\"X&Y = \", X&Y) #積集合\n",
    "    print(\"X-Y = \", X-Y) #差集合X-Y\n",
    "    print(\"Y-X = \", Y-X) #差集合Y-X\n",
    "    if 'se' in X:\n",
    "        print(\"'se' exists in X\")\n",
    "    else:\n",
    "        print(\"'se' doesn't exist in X\")\n",
    "    if 'se' in Y:\n",
    "        print(\"'se' exists in Y\")\n",
    "    else:\n",
    "        print(\"'se' doesn't exist in Y\")\n",
    "\n",
    "if __name__ == \"__main__\":\n",
    "    main()"
   ]
  },
  {
   "cell_type": "markdown",
   "metadata": {
    "deletable": true,
    "editable": true
   },
   "source": [
    "# 07. テンプレートによる文生成"
   ]
  },
  {
   "cell_type": "markdown",
   "metadata": {
    "collapsed": true,
    "deletable": true,
    "editable": true
   },
   "source": [
    "### [memo]  \n",
    "%  \n",
    ".format →多機能  \n",
    "str()+str()+...  \n"
   ]
  },
  {
   "cell_type": "code",
   "execution_count": 3,
   "metadata": {
    "collapsed": false,
    "deletable": true,
    "editable": true
   },
   "outputs": [
    {
     "name": "stdout",
     "output_type": "stream",
     "text": [
      "12時の気温は22.4\n"
     ]
    }
   ],
   "source": [
    "def temp(x, y, z):\n",
    "    return(str(x) + \"時の\" + str(y) + \"は\" + str(z))\n",
    "def main():\n",
    "    print(temp(12, '気温', 22.4))\n",
    "\n",
    "if __name__ == \"__main__\":\n",
    "    main()"
   ]
  },
  {
   "cell_type": "markdown",
   "metadata": {
    "collapsed": true,
    "deletable": true,
    "editable": true
   },
   "source": [
    "# 08. 暗号文"
   ]
  },
  {
   "cell_type": "markdown",
   "metadata": {
    "collapsed": true,
    "deletable": true,
    "editable": true
   },
   "source": [
    "### [memo]  \n",
    "ord()　10進数の文字コード  \n",
    "str.islower  \n",
    "chr.islower→全角にも対応  \n",
    "['a-z']→半角にしか対応できない  \n",
    "python文法紹介  \n",
    "復号化×  \n",
    "復号○  \n",
    "regular expressions  \n",
    "正規表現cookbook  \n",
    "新屋さん　正規表現技術入門  "
   ]
  },
  {
   "cell_type": "code",
   "execution_count": 2,
   "metadata": {
    "collapsed": false,
    "deletable": true,
    "editable": true
   },
   "outputs": [
    {
     "name": "stdout",
     "output_type": "stream",
     "text": [
      "暗号化: Hvool, dliow!\n",
      "復号化: Hello, world!\n"
     ]
    }
   ],
   "source": [
    "def cipher(msg):\n",
    "    return \"\".join([chr(219 - ord(i)) if i.islower() else i for i in msg])\n",
    "def main():\n",
    "    msg = \"Hello, world!\"\n",
    "    code = cipher(msg)\n",
    "    print(\"暗号化: \" + code)\n",
    "    print(\"復号化: \" + cipher(code)) #同じ関数で復号が可能\n",
    "\n",
    "if __name__ == \"__main__\":\n",
    "    main()"
   ]
  },
  {
   "cell_type": "markdown",
   "metadata": {
    "deletable": true,
    "editable": true
   },
   "source": [
    "# 09. Typoglycemia"
   ]
  },
  {
   "cell_type": "code",
   "execution_count": 1,
   "metadata": {
    "collapsed": false,
    "deletable": true,
    "editable": true
   },
   "outputs": [
    {
     "name": "stdout",
     "output_type": "stream",
     "text": [
      "I cdnu'olt beivele that I could alcltuay utnesndard what I was reidang : the phnnoeeaml peowr of the hamun mind . \n"
     ]
    }
   ],
   "source": [
    "import random\n",
    "def random_sort(item):\n",
    "    random.shuffle(item)\n",
    "    return item\n",
    "def typoglycemia(msg):\n",
    "    return \"\".join([word + \" \" if len(word) <= 4 \n",
    "                        else (word[0] + \"\".join(random_sort(list(word[1:-1]))) + word[-1] + \" \") \n",
    "                            for word in msg.split()])   \n",
    "\n",
    "msg = \"I couldn't believe that I could actually understand what I was reading : the phenomenal power of the human mind .\"\n",
    "print(typoglycemia(msg))"
   ]
  }
 ],
 "metadata": {
  "kernelspec": {
   "display_name": "Python 3",
   "language": "python",
   "name": "python3"
  },
  "language_info": {
   "codemirror_mode": {
    "name": "ipython",
    "version": 3
   },
   "file_extension": ".py",
   "mimetype": "text/x-python",
   "name": "python",
   "nbconvert_exporter": "python",
   "pygments_lexer": "ipython3",
   "version": "3.5.2"
  }
 },
 "nbformat": 4,
 "nbformat_minor": 2
}
