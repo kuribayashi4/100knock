{
 "cells": [
  {
   "cell_type": "code",
   "execution_count": 10,
   "metadata": {
    "collapsed": false,
    "deletable": true,
    "editable": true
   },
   "outputs": [
    {
     "name": "stdout",
     "output_type": "stream",
     "text": [
      "暗号化: Hvool, dliow!\n",
      "復号化: Hello, world!\n"
     ]
    }
   ],
   "source": [
    "def cipher(str):\n",
    "    a = \"\"\n",
    "    for i in str:\n",
    "        if i.islower():\n",
    "            a += chr(219 - ord(i)) #アルファベットであれば文字コードを変換\n",
    "        else:\n",
    "            a += i\n",
    "    return(a)\n",
    "\n",
    "str = \"Hello, world!\"\n",
    "angou = cipher(str)\n",
    "print(\"暗号化: \" + angou)\n",
    "print(\"復号化: \" + cipher(angou)) #同じ関数で復号が可能\n",
    "            "
   ]
  },
  {
   "cell_type": "code",
   "execution_count": null,
   "metadata": {
    "collapsed": true,
    "deletable": true,
    "editable": true
   },
   "outputs": [],
   "source": []
  }
 ],
 "metadata": {
  "kernelspec": {
   "display_name": "Python 3",
   "language": "python",
   "name": "python3"
  },
  "language_info": {
   "codemirror_mode": {
    "name": "ipython",
    "version": 3
   },
   "file_extension": ".py",
   "mimetype": "text/x-python",
   "name": "python",
   "nbconvert_exporter": "python",
   "pygments_lexer": "ipython3",
   "version": "3.5.2"
  }
 },
 "nbformat": 4,
 "nbformat_minor": 2
}
