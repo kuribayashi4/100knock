{
 "cells": [
  {
   "cell_type": "markdown",
   "metadata": {},
   "source": [
    "# gzipファイル\n",
    "gzip.open(filename, mode, その他諸々)で開く  \n",
    "modeを指定しないとバイナリモード(2進数)で開く  \n",
    "mode='rt'でテキストモード(文字列)  \n",
    "返り値はファイルポインタ→f.readline()などのパターン  \n",
    "バイナリ→文字列 .decode() \n",
    "文字列→バイナリ .encode()\n"
   ]
  }
 ],
 "metadata": {
  "kernelspec": {
   "display_name": "Python 3",
   "language": "python",
   "name": "python3"
  },
  "language_info": {
   "codemirror_mode": {
    "name": "ipython",
    "version": 3
   },
   "file_extension": ".py",
   "mimetype": "text/x-python",
   "name": "python",
   "nbconvert_exporter": "python",
   "pygments_lexer": "ipython3",
   "version": "3.5.2"
  }
 },
 "nbformat": 4,
 "nbformat_minor": 2
}
