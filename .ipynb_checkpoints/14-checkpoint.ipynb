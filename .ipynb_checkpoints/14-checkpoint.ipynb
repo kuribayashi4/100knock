{
 "cells": [
  {
   "cell_type": "code",
   "execution_count": 20,
   "metadata": {
    "collapsed": false,
    "deletable": true,
    "editable": true
   },
   "outputs": [
    {
     "name": "stdout",
     "output_type": "stream",
     "text": [
      "N=4\n",
      "高知県\t江川崎\t41\t2013-08-12\n",
      "埼玉県\t熊谷\t40.9\t2007-08-16\n",
      "岐阜県\t多治見\t40.9\t2007-08-16\n",
      "山形県\t山形\t40.8\t1933-07-25\n",
      "\n"
     ]
    }
   ],
   "source": [
    "N = int(input('N=')) #行数Nを受け取る\n",
    "with open('hightemp.txt', 'r') as f:\n",
    "    data = f.readlines()\n",
    "    if N < 0 or N > len(data):\n",
    "        print(\"please input number between 0 and 24\") #Nの値が適切か判断\n",
    "    else:\n",
    "        print(''.join(data[:N])) #先頭からN行を表示\n",
    "\n",
    "#readlineをN回行っても良かったが, Nの値の判断で行数を知る際にreadlinesをしているので, このようにした\n",
    "        "
   ]
  },
  {
   "cell_type": "code",
   "execution_count": null,
   "metadata": {
    "collapsed": true,
    "deletable": true,
    "editable": true
   },
   "outputs": [],
   "source": []
  },
  {
   "cell_type": "code",
   "execution_count": null,
   "metadata": {
    "collapsed": true,
    "deletable": true,
    "editable": true
   },
   "outputs": [],
   "source": []
  }
 ],
 "metadata": {
  "kernelspec": {
   "display_name": "Python 3",
   "language": "python",
   "name": "python3"
  },
  "language_info": {
   "codemirror_mode": {
    "name": "ipython",
    "version": 3
   },
   "file_extension": ".py",
   "mimetype": "text/x-python",
   "name": "python",
   "nbconvert_exporter": "python",
   "pygments_lexer": "ipython3",
   "version": "3.5.2"
  }
 },
 "nbformat": 4,
 "nbformat_minor": 2
}
