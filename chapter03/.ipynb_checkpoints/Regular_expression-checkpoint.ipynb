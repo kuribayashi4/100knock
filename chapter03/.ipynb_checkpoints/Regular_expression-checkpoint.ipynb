{
 "cells": [
  {
   "cell_type": "markdown",
   "metadata": {
    "deletable": true,
    "editable": true
   },
   "source": [
    "# 正規表現  \n",
    "※正規表現をカギカッコ「」で囲むこととする  \n",
    "参考: オライリーシリーズ 詳説 正規表現\n",
    "\n",
    "^(キャレット): 文頭でマッチ  \n",
    "\\$(ドル記号): 文末でマッチ  \n",
    "「^cat\\$」 catだけの行  \n",
    "「^$」 空行  \n",
    "「^」 全ての行  \n",
    "\n",
    "[]の内部を文字クラスと呼ぶ  \n",
    "文字クラス外で文字が並ぶ: 暗黙のうちに”かつ次に”  \n",
    "文字クラス内で文字が並ぶ: \"または\"  \n",
    "HTMLヘッダを探す<H[123456]>などとして使える  \n",
    "\n",
    "## 文字クラスの内と外ではメタ文字が変わる  \n",
    "文字クラス内での(先頭に来ない)ダッシュ\"-\":「< H[1-6] \\>」のように範囲を表す  \n",
    "文字クラス内では\".\"や\"?\"はメタ文字にならない  \n",
    "文字クラス内の(先頭の)^は否定: リストに含まれていない何かの文字にマッチにする(文末になっている場合マッチしない)  \n",
    "文字クラス外の\".\": 任意の文字にマッチ  \n",
    "文字クラス外の\"|\": 選択肢 or  \n",
    "「gray|grey」 「gr(a|e)y」 「gr[ae]y」は同じ  \n",
    "文字クラス内で\"]\"をマッチさせたい場合は先頭に  \n",
    "\n",
    "## egrepコマンド\n",
    "正規表現にマッチした部分がある行を出力  \n",
    "-iオプションで大文字小文字を無視\n",
    "一部のバージョンは単語の認識を補助  \n",
    "\\<○○\\>で単語として検索 メタ文字列\"\\<\",\"\\>\"  \n",
    "catを検索してvacationみたいなものがヒットしない  \n",
    "\n",
    "##　量指定詞　　\n",
    "?(オプション): 直前の文字があってもなくても良い(0 or 1)  \n",
    "+: 1回以上の繰り返し  \n",
    "*: 0回以上の繰り返し(任意) ※内部的にCのintのsizeに起因しておよそ20億個という制限はある  \n",
    "[a-zA-Z]{m,n} アルファベットmからn文字 mの省略→0 nの省略→無限大  \n",
    "\n",
    "## 最短一致\n",
    "*?: 0回以上  \n",
    "+?: 1回以上  \n",
    "??: 0 or 1回  \n",
    "{m,n}?: m回以上n回未満で最短一致  \n",
    "\n",
    "## re.sub(正規表現, 置換後の文字列, 対象とする文字列)\n",
    "該当する箇所全てを置換してくれる模様  \n",
    "例)re.sub(r'[.\\*]', '', \"a[b]cd[e]\")  \n",
    "結果はab]cd[eとなってしまう  \n",
    "re.sub(r'[.\\*?]', '', \"a[b]cd[e]\")とすれば  \n",
    "結果はabcdeとなる  \n",
    "\n",
    "## 後方参照  \n",
    "n番目の()と\\\\nを対応させることができる  \n",
    "単語の繰り返しの検出 \\<([a-zA-z]+) \\\\1\\>  \n",
    "\n",
    "\n",
    "## 実例\n",
    "変数名の検索 「[a-zA-Z_][a-zA-Z0-9_]*」\n",
    "ダブルクォーテーションで囲まれる文字列の検索 「\"[^\"]*\"」\n",
    "\n",
    "## 内部での動作  \n",
    "貪欲で進む\n",
    "### 例)a[bcd]*bがabcbdに対してマッチする作業  \n",
    "a[bcd*]でabcbdを読みきる→最後にbがない  \n",
    "a[bcd*]でabcbを読む→最後にbがない    \n",
    "a[bcd*]でabcを読む→最後にbがある!  \n",
    "結構無駄?な動作をしている  \n",
    "\n",
    "## 正規表現オブジェクト  \n",
    "re.compile(\"文字列\")で正規表現パターン(文字列)を正規表現オブジェクトに変換(コンパイル)できる  \n",
    "正規表現オブジェクトを用いてregex.match regex.serchなどができる  \n",
    "大抵の正規表現操作はモジュールレベルの関数と、コンパイル済み正規表現のメソッドとして提供されている  \n",
    "例)  \n",
    "re.serch('正規表現パターン', \"文字列\")  \n",
    "regex.serch(\"文字列\")  \n",
    "同じ正規表現を何度も用いるのであればコンパイルしてしまった方がいい  \n",
    "\n",
    "## バックスラッシュ  \n",
    "pythonでは文字列のメタ文字として\\が定義されている  \n",
    "正規表現のメタ文字としても\\が定義されている  \n",
    "例)'\\\\setion'をマッチさせたい場合  \n",
    "re.compileに'\\\\\\\\section'と認識されるような文字列を渡したい。文字として'\\\\'を渡したいので文字列のエスケープシーケンス'\\''をつける  \n",
    "つまり、re.compile('\\\\\\\\\\\\\\\\section')と渡さなければいけない...(この原文では\\が8個...)  \n",
    "補足:  \n",
    "'\\\\n'と'\\\\\\\\n'は文字列にした際見た目が異なるが、'\\\\s'と'\\\\\\\\s'は文字列にした際見た目がまったく同じになる。  \n",
    "この場合、見た目が同じならば同一の文字列として扱われるようである  \n",
    "\n",
    "## Matchオブジェクト  \n",
    "マッチが見つからなればNone マッチが見つかればMatchオブジェクト(マッチ情報が含まれる)のインスタンスを返す  \n",
    "Noneのbool値はfalse (ただし、Noneとfalseは同一のものではなく、if ○○ is None という判定すれば別物であることが分かる)  \n",
    "Matchオブジェクトインスタンスはメソットを持つ  \n",
    "group(): マッチした文字列を返す  \n",
    "start(): マッチの開始位置  \n",
    "end(): マッチの終了位置  \n",
    "span(): マッチの位置(start, end)のタプル  \n",
    "\n",
    "全てのマッチを返せるメソッド  \n",
    "findall(): マッチした文字列のリスト  \n",
    "finditer(): マッチした位置をiteratorとして返す  \n",
    "\n",
    "## コンパイルフラグ  \n",
    "re.compile(,ここで指定できる)  \n",
    "I: 大文字小文字無視  \n",
    "L: \\\\wなどをロケールに対応した動作にする(例えば、フランス語の処理におけるアクセント付きのアルファベットなど)  \n",
    "M: ^と\\$が文字列の先頭と末尾から、改行に続く各行の先頭と末尾に  \n",
    "S: '.'を改行にも適用させる(通常'.'は改行以外の文字に該当する)  \n",
    "A: \\wなどが完全なUnicodeマッチングではなく、ASCIIのみのマッチングになる  \n",
    "X: 正規表現を読みやすくかけるようにする  "
   ]
  },
  {
   "cell_type": "code",
   "execution_count": 8,
   "metadata": {
    "collapsed": false,
    "deletable": true,
    "editable": true
   },
   "outputs": [
    {
     "name": "stdout",
     "output_type": "stream",
     "text": [
      "Match found a\n"
     ]
    }
   ],
   "source": [
    "import re\n",
    "p = re.compile(\"[a-z]\")  \n",
    "m = p.search(\".a...b..cd\")\n",
    "if m:\n",
    "    print('Match found', m.group())\n",
    "else:\n",
    "    print('No match')"
   ]
  },
  {
   "cell_type": "code",
   "execution_count": 11,
   "metadata": {
    "collapsed": false,
    "deletable": true,
    "editable": true
   },
   "outputs": [
    {
     "data": {
      "text/plain": [
       "('c',)"
      ]
     },
     "execution_count": 11,
     "metadata": {},
     "output_type": "execute_result"
    }
   ],
   "source": [
    "import re\n",
    "m = re.match(\"([abc])+\", \"abc\")\n",
    "m.groups()"
   ]
  },
  {
   "cell_type": "code",
   "execution_count": 12,
   "metadata": {
    "collapsed": false,
    "deletable": true,
    "editable": true
   },
   "outputs": [
    {
     "name": "stdout",
     "output_type": "stream",
     "text": [
      "re.compile('section')\n",
      "<_sre.SRE_Match object; span=(1, 8), match='section'>\n",
      "re.compile('\\\\section')\n",
      "None\n",
      "re.compile('\\\\\\\\section')\n",
      "<_sre.SRE_Match object; span=(0, 8), match='\\\\section'>\n"
     ]
    }
   ],
   "source": [
    "import re\n",
    "p1 = re.compile('section')\n",
    "print(p1)\n",
    "result1 = p1.search(\"\\section\")\n",
    "print(result1)\n",
    "p2 = re.compile('\\\\section')\n",
    "print(p2)\n",
    "result2 = p2.search(\"\\section\")\n",
    "print(result2)\n",
    "p3 = re.compile('\\\\\\\\section')\n",
    "print(p3)\n",
    "result3 = p3.search(\"\\section\")\n",
    "print(result3)"
   ]
  },
  {
   "cell_type": "code",
   "execution_count": null,
   "metadata": {
    "collapsed": true,
    "deletable": true,
    "editable": true
   },
   "outputs": [],
   "source": [
    "a = \"a\\na\"\n",
    "print(a)\n",
    "a = \"a\\\\na\"\n",
    "print(a)\n",
    "a = \"a\\\\\\na\"\n",
    "print(a)\n",
    "a = \"a\\\\\\\\na\"\n",
    "print(a)\n",
    "\n",
    "b = \"a\\sa\"\n",
    "print(b)\n",
    "c = \"a\\\\sa\"\n",
    "print(c)\n",
    "bool(b==c)\n",
    "\n"
   ]
  }
 ],
 "metadata": {
  "kernelspec": {
   "display_name": "Python 3",
   "language": "python",
   "name": "python3"
  },
  "language_info": {
   "codemirror_mode": {
    "name": "ipython",
    "version": 3
   },
   "file_extension": ".py",
   "mimetype": "text/x-python",
   "name": "python",
   "nbconvert_exporter": "python",
   "pygments_lexer": "ipython3",
   "version": "3.5.2"
  }
 },
 "nbformat": 4,
 "nbformat_minor": 2
}
