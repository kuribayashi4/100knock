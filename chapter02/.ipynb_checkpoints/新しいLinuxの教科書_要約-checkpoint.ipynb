{
 "cells": [
  {
   "cell_type": "markdown",
   "metadata": {
    "deletable": true,
    "editable": true
   },
   "source": [
    "# Linux/コマンド関連\n",
    "## chapter01\n",
    "GUI(グラフィカルユーザインタフェース): マウスやタッチパッドなどを用いた操作    \n",
    "CLI(コマンドラインインタフェース): コマンドによる操作  \n",
    "rootユーザになると、$が#になる  \n",
    "\n",
    "## chapter02\n",
    "コマンドを実行しているのはLinuxの本体であるLinuxカーネルである  \n",
    "シェルとは、カーネルを動かすソフトウェアのことである  \n",
    "ログインシェルはecho $SHELLで確認でき、/bintというディレクトリのbashがログインシェルであることが確認できた  \n",
    "\n",
    "### シェルの種類 \n",
    "- sh: シェルスクリプトを書くときに一般的に用いる  機能が少なく対話的に使うのには不便\n",
    "- csh: shより便利だがシェルの文法がshと違う  tcshが後継\n",
    "- bash: shの進化系 shと後方互換性(sh→bash)がある シェルスクリプトを書くときにも使う  \n",
    "- tcsh: csh同様、対話型動作で便利だが、シェルスクリプトを書くのには向いていない \\$ではなく%が一般的  \n",
    "- zsh: 他のシェルの機能を積極的に取り込んでおり、機能面では圧倒  ただし、初心者向けではない\n",
    "bashがオススメ(Macの場合ログインシェルがbash)  \n",
    "シェルはコマンドで変更できる sh bashなど  \n",
    "\n",
    "### ターミナル\n",
    "ターミナル(ターミナルエミュレータ)は入出力の画面を提供するソフトウェアであり、ターミナルエミュレータというウインドウの中でシェルが動いている  \n",
    "\n",
    "## chapter03  \n",
    "Ctrl+b 後方に１文字分移動  \n",
    "Ctrl+f 前方に１文字分移動  \n",
    "Ctrl+a 行頭に移動  \n",
    "Ctrl+e 行末に移動  \n",
    "esc+b 一単語分移動\n",
    "esc+f 一単語分移動  \n",
    "Ctrl+h backspace  \n",
    "Ctrl+d カーソル位置の文字を削除  \n",
    "Ctrl+w 一単語削除  \n",
    "Ctrl+k 行末までを削除(現在行頭にいる)  \n",
    "Ctrl+u 行頭までを削除(現在行頭にいる)  \n",
    "Ctrl+y 削除した内容を復元(ここだといかないみたい)  \n",
    "(ちなみに)  \n",
    "Ctrl+p 一行上  \n",
    "Ctrl+n 一行下  \n",
    "  \n",
    "Ctrl+s 画面のロック(Macのbashだといかなかった)  \n",
    "Ctrl+q ロック解除  \n",
    "Ctrl+l 画面消去  \n",
    "\n",
    "Tab　補完機能  \n",
    "例)'ec'の状態でescを押すと'echo 'になる  \n",
    "Ctrl+p =↑  \n",
    "Ctrl+n =↓  \n",
    "でコマンド履歴を遡ることができる  \n",
    "コマンドを打ち間違って実行→Ctrl+pで打ち間違い状態の復元などにも利用  \n",
    "Ctrl+r コマンド履歴を検索(インクリメンタル検索)  \n",
    "インクリメンタル検索中　　\n",
    "Ctrl+r 一つ前の検索結果  \n",
    "Enter そのまま実行  \n",
    "Esc 検索結果を残してコマンドライン  \n",
    "Ctrl+g 検索結果を破棄しコマンドライン  \n",
    "\n",
    "## chapter04\n",
    "ルートディレクトリは'/'  \n",
    "Linuxの場合ディレクトリツリーは１つ  \n",
    "Windowsの場合２つ  \n",
    "/bin: 重要度の高いコマンドが格納されている  \n",
    "/dev: デバイスファイルの格納  \n",
    "/etc: 設定ファイル、Linux自体の設定ファイルも  \n",
    "/home: ホームディレクトリ(自分のホームディレクトリは/home/kuribayashi)  \n",
    "/sbin: /binと似ている実行ファイルを置くディレクトリ(shutdownコマンドなどはこっちにある)  \n",
    "/tmp: 一時ファイルを置く  \n",
    "/usr: 各種アプリケーションや付随するファイル  \n",
    "/var: 変化するデータを置く  \n",
    "\n",
    "## シェル芸\n",
    "sort | uniq -c |sort -nr  \n",
    "データの出現順をランキング  \n",
    "grep -c \"\"  \n",
    "行数のカウント(wc -l では余計な空白が生じる)  \n",
    "head -n 3|tail -n 1  \n",
    "特定の行を取り出す  \n",
    "grep -o word  \n",
    "特定の語を抜き出す  \n",
    "grep -o word |grep -c \"\"  \n",
    "特定の後の出現回数  \n",
    "\n",
    "## コマンド  \n",
    "### grep フィルタ、検索  \n",
    "-E 拡張正規表現が使える  \n",
    "-c 該当した行数  \n",
    "'' 全ての行が該当  \n",
    "-n 各行に行数を追加 \n",
    "-i 大文字小文字の区別をなくす  \n",
    "\n",
    "### sed\n",
    "#### sed -E 's/これを/これに/g'  \n",
    "s:正規表現コマンド  \n",
    "g:行の中で複数箇所にマッチした場合全て置換  \n",
    "-E:拡張正規表現  \n",
    "'s/xx(.)/& \\1/' &はパターンにマッチした部分全てを返す  \n",
    "#### sed 開始行,終了行d (該当行の削除)  \n",
    "該当行以外を削除する場合、最終行の前に!  \n",
    "この時!をシェルが特別に理解してしまうため, \"開始行,!終了行\"か 開始行,\\\\!終了行  \n",
    "#### sed -n -e 該当させる行p(特定の行を表示)  \n",
    "p:該当した行を表示させる  \n",
    "sedはデフォルトで全ての行を表示する-> -n オプションでpコマンドの該当行のみを表示させる  \n",
    "### awk　複数行のデータを処理  \n",
    "awk '{\\$1 \\* \\$2\\}' file :1列目と2列目の掛け算   \n",
    "cat work/test.txt | awk '{print NR \" \" $1}' :行数の付与  \n",
    "awk \\$1=='foo' 1列目がfooの行  \n",
    "awk '\\{sum+=\\$1\\}END\\{print sum\\}' hoge.txt 1列目の合計  \n",
    "awk '\\{sum+=\\$1\\}END\\{print sum\\/NR\\}' hoge.txt 1列目の平均  \n",
    "cat hoge.txt | awk '{print length();}' 文字数  \n",
    "などなどawkでできることは多い  \n",
    "\n"
   ]
  },
  {
   "cell_type": "code",
   "execution_count": 21,
   "metadata": {
    "collapsed": false,
    "scrolled": true
   },
   "outputs": [
    {
     "name": "stdout",
     "output_type": "stream",
     "text": [
      "   2 Baj\r\n",
      "   1 aba\r\n",
      "   1 aaa\r\n",
      "   1 Ssj\r\n",
      "   1 Shush\r\n",
      "   1 Sha\r\n",
      "   1 Ass\r\n",
      "   1 Ahs\r\n",
      "   1 Ahaha\r\n",
      "   1 Aba\r\n",
      "   1 Aaj\r\n",
      "   1 Aaa\r\n",
      "   1 Aa\r\n"
     ]
    }
   ],
   "source": [
    "!cat work/test.txt | sort | uniq -c | sort -nr"
   ]
  },
  {
   "cell_type": "code",
   "execution_count": 41,
   "metadata": {
    "collapsed": false
   },
   "outputs": [
    {
     "name": "stdout",
     "output_type": "stream",
     "text": [
      "1 aaa\r\n",
      "2 aba\r\n",
      "3 Baj\r\n",
      "4 Aaj\r\n",
      "5 Sha\r\n",
      "6 Ssj\r\n",
      "7 Ahs\r\n",
      "8 Ahaha\r\n",
      "9 Aa\r\n",
      "10 Shush\r\n",
      "11 Ass\r\n",
      "12 Aba\r\n",
      "13 Aaa\r\n",
      "14 Baj\r\n"
     ]
    }
   ],
   "source": [
    "cat work/test.txt | awk '{print NR \" \" $1}'"
   ]
  }
 ],
 "metadata": {
  "kernelspec": {
   "display_name": "Python 3",
   "language": "python",
   "name": "python3"
  },
  "language_info": {
   "codemirror_mode": {
    "name": "ipython",
    "version": 3
   },
   "file_extension": ".py",
   "mimetype": "text/x-python",
   "name": "python",
   "nbconvert_exporter": "python",
   "pygments_lexer": "ipython3",
   "version": "3.5.2"
  }
 },
 "nbformat": 4,
 "nbformat_minor": 2
}
