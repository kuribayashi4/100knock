{
 "cells": [
  {
   "cell_type": "markdown",
   "metadata": {},
   "source": [
    "# API\n",
    "クライアントがリクエストを送ると、APIのサービスが応答を返してくれる  \n",
    "## MediaWiki\n",
    "### URL\n",
    "http://ja.wikipedia.org/w/api.php?パラメータ1=値1&パラメータ2=値2&...&パラメータn=値n  \n",
    "上のようにURLの末尾にリクエストの情報を付け足していく  \n",
    "### 汎用パラメータ\n",
    "全てのAPIで利用できるパラメータ\n",
    "format: 出力フォーマット  \n",
    "action: 操作  \n",
    "例えばaction=querryにすると何らかの情報を収集できる  \n",
    "### "
   ]
  }
 ],
 "metadata": {
  "kernelspec": {
   "display_name": "Python 3",
   "language": "python",
   "name": "python3"
  },
  "language_info": {
   "codemirror_mode": {
    "name": "ipython",
    "version": 3
   },
   "file_extension": ".py",
   "mimetype": "text/x-python",
   "name": "python",
   "nbconvert_exporter": "python",
   "pygments_lexer": "ipython3",
   "version": "3.5.2"
  }
 },
 "nbformat": 4,
 "nbformat_minor": 2
}
