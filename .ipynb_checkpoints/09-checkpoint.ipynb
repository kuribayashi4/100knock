{
 "cells": [
  {
   "cell_type": "code",
   "execution_count": 48,
   "metadata": {
    "collapsed": false,
    "deletable": true,
    "editable": true
   },
   "outputs": [
    {
     "name": "stdout",
     "output_type": "stream",
     "text": [
      "I clnu'odt bilveee that I could allautcy uensnartdd what I was riendag : the pnomeahenl peowr of the huamn mind . \n"
     ]
    }
   ],
   "source": [
    "import random\n",
    "def narabikae(str):\n",
    "    a = \"\"\n",
    "    b = []\n",
    "    for word in str.split():\n",
    "        if(len(word)<=4):\n",
    "            a += word + \" \" #文字数が４以下ならばそのまま\n",
    "        else:\n",
    "            b = list(word[1:-1]) #並び替える文字のリスト\n",
    "            random.shuffle(b)\n",
    "            a += word[0] + \"\".join(b) + word[-1] + \" \" #文字数が4より大きければ、先頭と最後の文字以外をランダムに並び替え\n",
    "    return a\n",
    "    \n",
    "str = \"I couldn't believe that I could actually understand what I was reading : the phenomenal power of the human mind .\"\n",
    "print(narabikae(str))"
   ]
  },
  {
   "cell_type": "code",
   "execution_count": null,
   "metadata": {
    "collapsed": true,
    "deletable": true,
    "editable": true
   },
   "outputs": [],
   "source": []
  }
 ],
 "metadata": {
  "kernelspec": {
   "display_name": "Python 3",
   "language": "python",
   "name": "python3"
  },
  "language_info": {
   "codemirror_mode": {
    "name": "ipython",
    "version": 3
   },
   "file_extension": ".py",
   "mimetype": "text/x-python",
   "name": "python",
   "nbconvert_exporter": "python",
   "pygments_lexer": "ipython3",
   "version": "3.5.2"
  }
 },
 "nbformat": 4,
 "nbformat_minor": 2
}
