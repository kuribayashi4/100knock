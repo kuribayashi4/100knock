{
 "cells": [
  {
   "cell_type": "code",
   "execution_count": 2,
   "metadata": {
    "collapsed": false
   },
   "outputs": [
    {
     "name": "stdout",
     "output_type": "stream",
     "text": [
      "高知県\n",
      "埼玉県\n",
      "岐阜県\n",
      "山形県\n",
      "山梨県\n",
      "和歌山県\n",
      "静岡県\n",
      "群馬県\n",
      "愛知県\n",
      "千葉県\n",
      "愛媛県\n",
      "大阪府\n",
      "\n"
     ]
    }
   ],
   "source": [
    "s = \"\"\n",
    "with open('hightemp.txt', 'r') as f:\n",
    "    for data in f.readlines(): #1行ずつ読み込み\n",
    "        if data.split()[0] not in s:\n",
    "            s += data.split()[0] + \"\\n\" #１列目の文字列がsにまだ追加されていなければ追加\n",
    "print(s)"
   ]
  },
  {
   "cell_type": "code",
   "execution_count": null,
   "metadata": {
    "collapsed": true
   },
   "outputs": [],
   "source": []
  }
 ],
 "metadata": {
  "kernelspec": {
   "display_name": "Python 3",
   "language": "python",
   "name": "python3"
  },
  "language_info": {
   "codemirror_mode": {
    "name": "ipython",
    "version": 3
   },
   "file_extension": ".py",
   "mimetype": "text/x-python",
   "name": "python",
   "nbconvert_exporter": "python",
   "pygments_lexer": "ipython3",
   "version": "3.5.2"
  }
 },
 "nbformat": 4,
 "nbformat_minor": 2
}
