{
 "cells": [
  {
   "cell_type": "code",
   "execution_count": 3,
   "metadata": {
    "collapsed": false
   },
   "outputs": [
    {
     "name": "stdout",
     "output_type": "stream",
     "text": [
      "Overwriting README.md\n"
     ]
    }
   ],
   "source": [
    "%%file README.md\n",
    "東北大学 乾・岡崎研  \n",
    "[言語処理100本ノック 2015](http://www.cl.ecei.tohoku.ac.jp/nlp100/) \n",
    "第６章まで回答  \n",
    "  \n",
    "chapter*.ipynb #pythonやシェルスクリプト, 別解等  \n",
    "*.py #各問題の回答  \n",
    "その他フォルダ #回答に必要なファイルや中間生成ファイr"
   ]
  }
 ],
 "metadata": {
  "kernelspec": {
   "display_name": "Python 3",
   "language": "python",
   "name": "python3"
  },
  "language_info": {
   "codemirror_mode": {
    "name": "ipython",
    "version": 3
   },
   "file_extension": ".py",
   "mimetype": "text/x-python",
   "name": "python",
   "nbconvert_exporter": "python",
   "pygments_lexer": "ipython3",
   "version": "3.5.2"
  }
 },
 "nbformat": 4,
 "nbformat_minor": 2
}
