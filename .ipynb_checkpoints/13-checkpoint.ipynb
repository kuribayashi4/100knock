{
 "cells": [
  {
   "cell_type": "code",
   "execution_count": 14,
   "metadata": {
    "collapsed": false,
    "deletable": true,
    "editable": true
   },
   "outputs": [],
   "source": [
    "with open('col1.txt', 'r') as f1:\n",
    "    with open('col2.txt', 'r') as f2:\n",
    "        with open('col3.txt', 'w') as f3:\n",
    "            f1_word = f1.readlines() #1列目のデータの読み込み\n",
    "            f2_word = f2.readlines() #2列目のデータの読み込み\n",
    "            for i in range(len(f1_word)):\n",
    "                f3.write(f1_word[i].rstrip('\\n') + '\\t' + f2_word[i]) #勝手に改行が入ってしまうので.rstrip('\\n')で除去"
   ]
  },
  {
   "cell_type": "code",
   "execution_count": null,
   "metadata": {
    "collapsed": true,
    "deletable": true,
    "editable": true
   },
   "outputs": [],
   "source": []
  }
 ],
 "metadata": {
  "kernelspec": {
   "display_name": "Python 3",
   "language": "python",
   "name": "python3"
  },
  "language_info": {
   "codemirror_mode": {
    "name": "ipython",
    "version": 3
   },
   "file_extension": ".py",
   "mimetype": "text/x-python",
   "name": "python",
   "nbconvert_exporter": "python",
   "pygments_lexer": "ipython3",
   "version": "3.5.2"
  }
 },
 "nbformat": 4,
 "nbformat_minor": 2
}
