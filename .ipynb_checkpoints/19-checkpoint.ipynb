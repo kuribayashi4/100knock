{
 "cells": [
  {
   "cell_type": "code",
   "execution_count": 16,
   "metadata": {
    "collapsed": false
   },
   "outputs": [
    {
     "name": "stdout",
     "output_type": "stream",
     "text": [
      "埼玉県 3\n",
      "山梨県 3\n",
      "群馬県 3\n",
      "山形県 3\n",
      "静岡県 2\n",
      "岐阜県 2\n",
      "千葉県 2\n",
      "愛知県 2\n",
      "愛媛県 1\n",
      "高知県 1\n",
      "大阪府 1\n",
      "和歌山県 1\n"
     ]
    }
   ],
   "source": [
    "from collections import Counter\n",
    "s = []\n",
    "with open('hightemp.txt', 'r') as f:\n",
    "    for data in f.readlines():\n",
    "        s.append(data.split()[0])　#1列目のデータをリストsに追加\n",
    "counter = Counter(s)\n",
    "for word, cnt in counter.most_common(): #出現頻度のカウントと並び替え\n",
    "    print(word, cnt)\n",
    "\n"
   ]
  },
  {
   "cell_type": "code",
   "execution_count": null,
   "metadata": {
    "collapsed": true
   },
   "outputs": [],
   "source": []
  }
 ],
 "metadata": {
  "kernelspec": {
   "display_name": "Python 3",
   "language": "python",
   "name": "python3"
  },
  "language_info": {
   "codemirror_mode": {
    "name": "ipython",
    "version": 3
   },
   "file_extension": ".py",
   "mimetype": "text/x-python",
   "name": "python",
   "nbconvert_exporter": "python",
   "pygments_lexer": "ipython3",
   "version": "3.5.2"
  }
 },
 "nbformat": 4,
 "nbformat_minor": 2
}
