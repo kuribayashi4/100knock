{
 "cells": [
  {
   "cell_type": "markdown",
   "metadata": {
    "deletable": true,
    "editable": true
   },
   "source": [
    "# 課題\n",
    "\n",
    "指定した動作をするプログラムを作成し、ソースコードを提出してください。\n",
    "\n",
    "## 課題内容\n",
    "\n",
    "GitHub Flavored Markdownで書かれた文章は、見出しによって階層構造となっているとみなすことができます。たとえば、下記のような文章があったときに、「大見出し」は「中見出し」を含み、「中見出し」は「小見出し1」と「小見出し2」とを含み、「小見出し1」は「本文1」を含んでいるとみなすことができます。\n",
    "\n",
    "```\n",
    "# 大見出し\n",
    "## 中見出し\n",
    "### 小見出し1\n",
    "\n",
    "本文1\n",
    "\n",
    "### 小見出し2\n",
    "\n",
    "本文2\n",
    "```\n",
    "\n",
    "Markdown 形式のポートフォリオがあったときに、見出しを指定すると、その見出しに含まれる要素を抽出するプログラムをつくってください。見出しの指定方法は、コマンドライン引数などで指定するものとします。具体的には、コマンドライン引数として「大見出し 中見出し 小見出し2」が与えられたときには、そこに含まれる要素の「本文2」の内容を出力してください。また、該当する見出しが無い場合には何も出力しません。\n",
    "\n",
    "なお、実装にあたってのプログラム言語や処理系は問いません。ただし、 Mac で動作確認を行ないますので、どのようにプログラムを動作させるのかについて、補足ドキュメントを添えてください。\n",
    "\n",
    "ライブラリの利用については制限しませんが、応募者の実力が分かるシンプルな実装を期待しています。"
   ]
  },
  {
   "cell_type": "code",
   "execution_count": 524,
   "metadata": {
    "collapsed": false,
    "deletable": true,
    "editable": true
   },
   "outputs": [
    {
     "name": "stdout",
     "output_type": "stream",
     "text": [
      "Overwriting cookpad.py\n"
     ]
    }
   ],
   "source": [
    "%%file cookpad.py \n",
    "import sys\n",
    "import re\n",
    "from itertools import islice\n",
    "\n",
    "def read_md(f, headings):\n",
    "    level = -1\n",
    "    for head_index, heading in enumerate(headings, start = 1):\n",
    "        for line in f:\n",
    "            rank = re.match(\"#+(?=\\s)\", line)\n",
    "            if rank and len(rank.group()) <= level:\n",
    "                return\n",
    "            if re.fullmatch(\"#+\\s\" + heading + \"\\n\", line):\n",
    "                level = len(line.split()[0])\n",
    "                if head_index == len(headings):\n",
    "                    head_index = head_index+1\n",
    "                    continue\n",
    "                break\n",
    "            if head_index > len(headings):\n",
    "                print(line, end = \"\")\n",
    "    return\n",
    "        \n",
    "if __name__ == \"__main__\":\n",
    "    with open(\"cookpad.md\", \"r\") as f:\n",
    "        read_md(f, sys.argv[1:])"
   ]
  },
  {
   "cell_type": "code",
   "execution_count": 288,
   "metadata": {
    "collapsed": false
   },
   "outputs": [
    {
     "name": "stdout",
     "output_type": "stream",
     "text": [
      "Overwriting cookpad.py\n"
     ]
    }
   ],
   "source": [
    "%%file cookpad.py \n",
    "import re\n",
    "import sys\n",
    "\n",
    "class Md:\n",
    "    def __init__(self, f, heads):\n",
    "        self.file = f\n",
    "        self.heads = heads\n",
    "        self.heads_level = [0 for _ in range(len(heads))] #それぞれのheadのレベルを記憶\n",
    "        self.i_search_head = 0 #\n",
    "        self.current_level = 0\n",
    "\n",
    "    def search(self):\n",
    "        for line in self.file:\n",
    "            #print(line, self.i_search_head, self.current_level, self.heads_level)\n",
    "            line_head_level = re.match(\"\\s{0,6}(#+)\\s\", line)\n",
    "            if line_head_level:\n",
    "                self.current_level = len(line_head_level.group(1))\n",
    "                self.lower_level()\n",
    "                #if self.print_target(line):\n",
    "                    #continue\n",
    "            if self.print_target(line):\n",
    "                continue\n",
    "            match_head = re.match(\"\\s{{0,6}}(#+)\\s{}\".format(self.heads[self.i_search_head]), line)\n",
    "            if match_head:\n",
    "                self.heads_level[self.i_search_head] = len(match_head.group(1))\n",
    "                self.i_search_head += 1\n",
    "        \n",
    "    def lower_level(self):\n",
    "        for i in range(self.i_search_head):\n",
    "            if self.heads_level[i] >= self.current_level:\n",
    "                self.i_search_head = i\n",
    "                return True\n",
    "            \n",
    "    def print_target(self, line):\n",
    "        if self.i_search_head == len(self.heads):\n",
    "            print(line)\n",
    "            return True\n",
    "\n",
    "\n",
    "if __name__ == \"__main__\":\n",
    "    with open(\"cookpad.md\", \"r\") as f:\n",
    "        m = Md(f, sys.argv[1:])\n",
    "        m.search()"
   ]
  },
  {
   "cell_type": "code",
   "execution_count": 316,
   "metadata": {
    "collapsed": false
   },
   "outputs": [
    {
     "name": "stdout",
     "output_type": "stream",
     "text": [
      "Overwriting cookpad.py\n"
     ]
    }
   ],
   "source": [
    "%%file cookpad.py \n",
    "import re\n",
    "import sys\n",
    "from itertools import groupby\n",
    "\n",
    "class Md:\n",
    "    def __init__(self, f, heads):\n",
    "        self.file = f\n",
    "        self.heads = heads\n",
    "        self.heads_level = [0 for _ in range(len(heads))] #それぞれのheadのレベルを記憶\n",
    "        self.i_target_head = 0 #リストheadsにおける探しているheadのindex\n",
    "        self.current_level = 0 #今見ている行のlevel\n",
    "\n",
    "    def print_target(self):\n",
    "        for is_target, line_block in groupby(self.file, lambda x: self.search(x)):\n",
    "            if is_target:\n",
    "                print(\"\".join(list(line_block)), end=\"\")       \n",
    "        \n",
    "    def search(self, line):\n",
    "        self.do_if_line_is_head(line)\n",
    "        if self.i_target_head == len(self.heads):\n",
    "            return True\n",
    "        self.do_if_line_is_target_head(line)\n",
    "        return False\n",
    "    \n",
    "    def do_if_line_is_head(self, line):\n",
    "        is_head = re.match(\"\\s{0,3}(#{1,6})\\s+\", line)\n",
    "        if is_head:\n",
    "            self.current_level = len(is_head.group(1))\n",
    "            self.change_target_head()         \n",
    "    \n",
    "    def change_target_head(self):\n",
    "        for i in range(self.i_target_head):\n",
    "            if self.heads_level[i] >= self.current_level:\n",
    "                self.i_target_head = i\n",
    "                return True\n",
    "    \n",
    "    def do_if_line_is_target_head(self, line):\n",
    "        match_head = re.match(\"\\s{{0,3}}(#{{1,6}})\\s+{}(\\s+#+\\s+)?\".format(self.heads[self.i_target_head]), line)\n",
    "        if match_head:\n",
    "            self.heads_level[self.i_target_head] = len(match_head.group(1))\n",
    "            self.i_target_head += 1\n",
    "            \n",
    "if __name__ == \"__main__\":\n",
    "    with open(sys.argv[1], \"r\") as f:\n",
    "        m = Md(f, sys.argv[2:])\n",
    "        m.print_target()"
   ]
  },
  {
   "cell_type": "code",
   "execution_count": 317,
   "metadata": {
    "collapsed": false
   },
   "outputs": [
    {
     "name": "stdout",
     "output_type": "stream",
     "text": [
      "### 中見出し\r\n",
      "\r\n",
      "#### 小見出し1\r\n",
      "\r\n",
      "### 中見出し\r\n",
      "\r\n",
      "\r\n",
      "\r\n",
      "本文1\r\n",
      "## 中見出し\r\n",
      "\r\n",
      "### 小見出し\r\n",
      "\r\n",
      "\r\n",
      "\r\n",
      "本文2\r\n",
      "\r\n",
      "\r\n",
      "a\r\n",
      "\r\n",
      "\r\n"
     ]
    }
   ],
   "source": [
    "!python cookpad.py cookpad.md 大見出し"
   ]
  },
  {
   "cell_type": "code",
   "execution_count": 227,
   "metadata": {
    "collapsed": false
   },
   "outputs": [
    {
     "ename": "TypeError",
     "evalue": "'function' object is not iterable",
     "output_type": "error",
     "traceback": [
      "\u001b[0;31m---------------------------------------------------------------------------\u001b[0m",
      "\u001b[0;31mTypeError\u001b[0m                                 Traceback (most recent call last)",
      "\u001b[0;32m<ipython-input-227-79485b1aef8d>\u001b[0m in \u001b[0;36m<module>\u001b[0;34m()\u001b[0m\n\u001b[1;32m      1\u001b[0m \u001b[0;32mfrom\u001b[0m \u001b[0mitertools\u001b[0m \u001b[0;32mimport\u001b[0m \u001b[0mgroupby\u001b[0m\u001b[0;34m\u001b[0m\u001b[0m\n\u001b[0;32m----> 2\u001b[0;31m \u001b[0;32mfor\u001b[0m \u001b[0mis_target\u001b[0m\u001b[0;34m,\u001b[0m \u001b[0mline_block\u001b[0m \u001b[0;32min\u001b[0m \u001b[0mgroupby\u001b[0m\u001b[0;34m(\u001b[0m\u001b[0;32mlambda\u001b[0m \u001b[0mx\u001b[0m\u001b[0;34m:\u001b[0m \u001b[0mx\u001b[0m\u001b[0;34m,\u001b[0m \u001b[0;34m[\u001b[0m\u001b[0;34m'A'\u001b[0m\u001b[0;34m,\u001b[0m\u001b[0;34m'A'\u001b[0m\u001b[0;34m,\u001b[0m\u001b[0;34m'B'\u001b[0m\u001b[0;34m,\u001b[0m\u001b[0;34m'C'\u001b[0m\u001b[0;34m,\u001b[0m\u001b[0;34m'C'\u001b[0m\u001b[0;34m]\u001b[0m\u001b[0;34m)\u001b[0m\u001b[0;34m:\u001b[0m\u001b[0;34m\u001b[0m\u001b[0m\n\u001b[0m\u001b[1;32m      3\u001b[0m         \u001b[0;32mif\u001b[0m \u001b[0mis_target\u001b[0m\u001b[0;34m:\u001b[0m\u001b[0;34m\u001b[0m\u001b[0m\n\u001b[1;32m      4\u001b[0m             \u001b[0mprint\u001b[0m\u001b[0;34m(\u001b[0m\u001b[0;34m\"\\n\"\u001b[0m\u001b[0;34m.\u001b[0m\u001b[0mjoin\u001b[0m\u001b[0;34m(\u001b[0m\u001b[0mlist\u001b[0m\u001b[0;34m(\u001b[0m\u001b[0mline_block\u001b[0m\u001b[0;34m)\u001b[0m\u001b[0;34m)\u001b[0m\u001b[0;34m)\u001b[0m\u001b[0;34m\u001b[0m\u001b[0m\n",
      "\u001b[0;31mTypeError\u001b[0m: 'function' object is not iterable"
     ]
    }
   ],
   "source": [
    "from itertools import groupby\n",
    "for is_target, line_block in groupby(lambda x: x, ['A','A','B','C','C']):\n",
    "        if is_target:\n",
    "            print(\"\\n\".join(list(line_block)))  "
   ]
  },
  {
   "cell_type": "code",
   "execution_count": 70,
   "metadata": {
    "collapsed": false,
    "scrolled": true
   },
   "outputs": [
    {
     "ename": "SyntaxError",
     "evalue": "can't assign to function call (<ipython-input-70-2f1c7046d11c>, line 3)",
     "output_type": "error",
     "traceback": [
      "\u001b[0;36m  File \u001b[0;32m\"<ipython-input-70-2f1c7046d11c>\"\u001b[0;36m, line \u001b[0;32m3\u001b[0m\n\u001b[0;31m    \"a{}\".format(i) = i\u001b[0m\n\u001b[0m    ^\u001b[0m\n\u001b[0;31mSyntaxError\u001b[0m\u001b[0;31m:\u001b[0m can't assign to function call\n"
     ]
    }
   ],
   "source": [
    "a = [1,2]\n",
    "for i in range(len(a)):\n",
    "    \"a{}\".format(i) = i\n",
    "print(a1)"
   ]
  },
  {
   "cell_type": "code",
   "execution_count": 134,
   "metadata": {
    "collapsed": false
   },
   "outputs": [
    {
     "data": {
      "text/plain": [
       "'##'"
      ]
     },
     "execution_count": 134,
     "metadata": {},
     "output_type": "execute_result"
    }
   ],
   "source": [
    "import re\n",
    "re.match(\"\\s{0,6}(#+)\\s\", \"## あ\").group(1)\n",
    "re.match(\"\\s{{0,6}}(#+)\\s{}\".format(\"大見出し\"), \"## 大見出し\").group(1)"
   ]
  },
  {
   "cell_type": "code",
   "execution_count": 115,
   "metadata": {
    "collapsed": false,
    "deletable": true,
    "editable": true
   },
   "outputs": [
    {
     "name": "stdout",
     "output_type": "stream",
     "text": [
      "##\\s\n"
     ]
    }
   ],
   "source": [
    "print(\"#\"*2 + \"\\s\")"
   ]
  },
  {
   "cell_type": "code",
   "execution_count": 72,
   "metadata": {
    "collapsed": false
   },
   "outputs": [
    {
     "data": {
      "text/plain": [
       "0"
      ]
     },
     "execution_count": 72,
     "metadata": {},
     "output_type": "execute_result"
    }
   ],
   "source": [
    "a =[1,0]\n",
    "a[sum(a)]"
   ]
  },
  {
   "cell_type": "code",
   "execution_count": 120,
   "metadata": {
    "collapsed": false,
    "deletable": true,
    "editable": true
   },
   "outputs": [
    {
     "name": "stdout",
     "output_type": "stream",
     "text": [
      "0\n",
      "0\n",
      "1\n",
      "1\n",
      "0\n",
      "1\n",
      "2\n",
      "0\n",
      "1\n"
     ]
    }
   ],
   "source": [
    "for i in range(3):\n",
    "    print(i)\n",
    "    for j in range(3):\n",
    "        print(j)\n",
    "        if j>0:\n",
    "            break"
   ]
  },
  {
   "cell_type": "code",
   "execution_count": 394,
   "metadata": {
    "collapsed": false,
    "deletable": true,
    "editable": true
   },
   "outputs": [
    {
     "data": {
      "text/plain": [
       "[2]"
      ]
     },
     "execution_count": 394,
     "metadata": {},
     "output_type": "execute_result"
    }
   ],
   "source": [
    "a = [1,2]\n",
    "a[1:]"
   ]
  },
  {
   "cell_type": "code",
   "execution_count": 452,
   "metadata": {
    "collapsed": false,
    "deletable": true,
    "editable": true
   },
   "outputs": [
    {
     "name": "stdout",
     "output_type": "stream",
     "text": [
      "# 大見出し\n",
      "## 中見出し\n",
      "### 小見出し1\n",
      "\n",
      "本文1\n",
      "# あ\n",
      "# 大見出し\n",
      "## 中見出し\n",
      "### 小見出し\n",
      "\n",
      "本文2\n"
     ]
    }
   ],
   "source": [
    "from itertools import islice\n",
    "with open(\"cookpad.md\", \"r\") as f:\n",
    "    for line in islice(f, 1, None):\n",
    "        print(line, end=\"\")"
   ]
  },
  {
   "cell_type": "code",
   "execution_count": 546,
   "metadata": {
    "collapsed": false,
    "deletable": true,
    "editable": true
   },
   "outputs": [
    {
     "name": "stdout",
     "output_type": "stream",
     "text": [
      "122\n",
      "122\n"
     ]
    }
   ],
   "source": [
    "with open(\"cookpad.md\", \"r\") as f:\n",
    "    for line in f:pass\n",
    "    print(f.tell())\n",
    "    print(f.seek(0, 2))"
   ]
  }
 ],
 "metadata": {
  "kernelspec": {
   "display_name": "Python 3",
   "language": "python",
   "name": "python3"
  },
  "language_info": {
   "codemirror_mode": {
    "name": "ipython",
    "version": 3
   },
   "file_extension": ".py",
   "mimetype": "text/x-python",
   "name": "python",
   "nbconvert_exporter": "python",
   "pygments_lexer": "ipython3",
   "version": "3.5.2"
  }
 },
 "nbformat": 4,
 "nbformat_minor": 2
}
