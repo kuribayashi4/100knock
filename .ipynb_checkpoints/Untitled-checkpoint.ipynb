{
 "cells": [
  {
   "cell_type": "code",
   "execution_count": 8,
   "metadata": {
    "collapsed": false
   },
   "outputs": [
    {
     "name": "stdout",
     "output_type": "stream",
     "text": [
      "6 1\n",
      "2 3 0 8 9 10\n",
      "5\n",
      "False\n"
     ]
    }
   ],
   "source": [
    "def f():\n",
    "    k = list(map(int, input().split()))\n",
    "    len_a = k[0]\n",
    "    len_b = k[1]\n",
    "    lista = list(map(int, input().split()))\n",
    "    listb = sorted(list(map(int, input().split())), reverse = True)\n",
    "    c=0\n",
    "    for a in lista:\n",
    "        if a == 0:\n",
    "            a = listb.pop()\n",
    "        if a >= c:\n",
    "            c = a\n",
    "            continue\n",
    "        else:\n",
    "            return(\"Yes\")\n",
    "    return(\"No\")\n",
    "    \n",
    "if __name__ == \"__main__\":\n",
    "    print(f())"
   ]
  }
 ],
 "metadata": {
  "kernelspec": {
   "display_name": "Python 3",
   "language": "python",
   "name": "python3"
  },
  "language_info": {
   "codemirror_mode": {
    "name": "ipython",
    "version": 3
   },
   "file_extension": ".py",
   "mimetype": "text/x-python",
   "name": "python",
   "nbconvert_exporter": "python",
   "pygments_lexer": "ipython3",
   "version": "3.5.2"
  }
 },
 "nbformat": 4,
 "nbformat_minor": 2
}
