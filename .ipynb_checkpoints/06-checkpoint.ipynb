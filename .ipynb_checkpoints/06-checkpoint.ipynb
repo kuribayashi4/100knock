{
 "cells": [
  {
   "cell_type": "code",
   "execution_count": 9,
   "metadata": {
    "collapsed": false,
    "deletable": true,
    "editable": true
   },
   "outputs": [
    {
     "name": "stdout",
     "output_type": "stream",
     "text": [
      "{'ad', 'is', 'di', 'se', 'ap', 'ra', 'ar', 'pa'}\n",
      "{'ag', 'ap', 'ra', 'ar', 'pa', 'ph', 'gr'}\n",
      "X|Y =  {'ad', 'is', 'di', 'se', 'ap', 'ag', 'ra', 'ar', 'pa', 'ph', 'gr'}\n",
      "X^Y =  {'ad', 'is', 'di', 'se', 'ag', 'ph', 'gr'}\n",
      "X-Y =  {'ad', 'is', 'di', 'se'}\n",
      "Y-X =  {'gr', 'ag', 'ph'}\n",
      "'se' exists in X\n",
      "'se' doesn't exist in Y\n"
     ]
    }
   ],
   "source": [
    "def n_gram(words, n):\n",
    "    a = []\n",
    "    for i in range(len(words)- n + 1):\n",
    "        a.append(words[i:i+n]) \n",
    "    return a\n",
    "    \n",
    "str_1 = \"paraparaparadise\"\n",
    "str_2 = \"paragraph\"\n",
    "X = set(n_gram(str_1, 2)) #set型にすることで集合演算が可能に\n",
    "Y = set(n_gram(str_2, 2))\n",
    "print(X)\n",
    "print(Y)\n",
    "print(\"X|Y = \" , X|Y) #和集合\n",
    "print(\"X^Y = \", X^Y) #積集合\n",
    "print(\"X-Y = \", X-Y) #差集合X-Y\n",
    "print(\"Y-X = \", Y-X) #差集合Y-X\n",
    "\n",
    "if 'se' in X: #'se'がXに含まれるか判断\n",
    "    print(\"'se' exists in X\")\n",
    "else:\n",
    "    print(\"'se' doesn't exist in X\")\n",
    "\n",
    "if 'se' in Y: #'se'がYに含まれるか判断\n",
    "    print(\"'se' exists in Y\")\n",
    "else:\n",
    "    print(\"'se' doesn't exist in Y\")"
   ]
  },
  {
   "cell_type": "code",
   "execution_count": null,
   "metadata": {
    "collapsed": true,
    "deletable": true,
    "editable": true
   },
   "outputs": [],
   "source": []
  }
 ],
 "metadata": {
  "kernelspec": {
   "display_name": "Python 3",
   "language": "python",
   "name": "python3"
  },
  "language_info": {
   "codemirror_mode": {
    "name": "ipython",
    "version": 3
   },
   "file_extension": ".py",
   "mimetype": "text/x-python",
   "name": "python",
   "nbconvert_exporter": "python",
   "pygments_lexer": "ipython3",
   "version": "3.5.2"
  }
 },
 "nbformat": 4,
 "nbformat_minor": 2
}
