{
 "cells": [
  {
   "cell_type": "markdown",
   "metadata": {},
   "source": [
    "# 10. 行数のカウント\n",
    "## !head\"$f\"  \n",
    "シェル変数に代入する際、=の左右にスペースを入れないこと  \n",
    "シェル変数の値を参照する場合、ドルマークをつける  \n",
    "シェル変数をダブルクォーテーションで囲わない場合、文字列の改行やタブはスペース1つに置換される。(シングルクォートで囲むと値が展開されない)  \n",
    "\n",
    "## 変数がn_で始まると数  \n",
    "n_files：ファイルの数  \n",
    "のように接頭語によって、変数の意味を明示することができる  \n",
    "リーダブルコード参照  \n",
    "\n",
    "## readlines()\n",
    "全部の文字列を読んでメモリに乗せてしまうため、長いファイルなどに対して実行すると処理が著しく重くなる可能性があり危険である。  \n",
    "\n",
    "## ファイルをオープンすると、ポインタが最後の位置になる\n",
    "ただopenすると読み込んだ後に使い回せない  \n",
    "対策として  \n",
    "①ファイルを開き直す  \n",
    "②f.seek(0)  \n",
    "\n",
    "## f.seek(オフセット, 基準位置)\n",
    "オフセット分(文字数)だけファイルポインタを移動    \n",
    "基準位置: 0=先頭, 1=現在地, 2=ファイルの終端　デフォルトで0  \n",
    "\n",
    "## sum(iterable, start)  \n",
    "イテラブルの要素(通常は数値)を足す。startを指定した場合その数からスタート。startはデフォルトで0\n",
    "\n",
    "## {}.format  \n",
    "{}の位置に文字列を埋め込む  \n",
    "`{0}{1}.format(one,two)`  \n",
    "`{ichi}{ni}.format(ichi=\"one\", ni=\"two\")`  \n",
    "`dict={\"key1\":\"value1\", \"key2\":\"value2\"}  \n",
    "{key1}{key2}.format(**dict)`  \n",
    "\n",
    "## アンパック  \n",
    "すでにリストやタプルになっているデータを関数の複数個の引数として渡したいとき  \n",
    "list=[1,2]  \n",
    "range(*list)  \n",
    "辞書の場合は**を使い、key=valueという変数定義として渡せる？  \n",
    "    def itameru(veg1, veg2):  \n",
    "        print(veg1, \"と\", veg2, \"の炒め物\")  \n",
    "    dict={\"veg1\":\"carrot\", \"veg2\":\"onion\"}  \n",
    "    itameru(**dict)  \n",
    "## 行をまたぐテキスト  \n",
    "\"\"\" \"\"\"行をまたいだテキスト  \n",
    "\n",
    "-h\n",
    "--help\n",
    "でusageが出てくる\n",
    "より細かく見たいときはman→レスが起動　出るときはq 検索は/　nで次の結果\n",
    "何も使わない変数は_にすることが\n",
    "grep 文字列を検索する\n",
    "オプションcで該当した行数\n",
    "''で全ての行が該当\n",
    "\n",
    "read()一つの文字列として返ってくる\n",
    "✴︎_\n",
    "file=open()"
   ]
  },
  {
   "cell_type": "code",
   "execution_count": 15,
   "metadata": {
    "collapsed": false
   },
   "outputs": [
    {
     "name": "stdout",
     "output_type": "stream",
     "text": [
      "df -k\n",
      "%hoge%\n",
      "df\n",
      "-k\n",
      "$hoge\n"
     ]
    }
   ],
   "source": [
    "%%bash\n",
    "hoge='df\n",
    "-k'\n",
    "echo $hoge\n",
    "echo $\n",
    "echo \"$hoge\"\n",
    "echo '$hoge'"
   ]
  },
  {
   "cell_type": "code",
   "execution_count": 23,
   "metadata": {
    "collapsed": false
   },
   "outputs": [
    {
     "data": {
      "text/plain": [
       "2331"
      ]
     },
     "execution_count": 23,
     "metadata": {},
     "output_type": "execute_result"
    }
   ],
   "source": [
    "a=(1,1,1,1,1,1,1)\n",
    "sum(a,2324)"
   ]
  },
  {
   "cell_type": "code",
   "execution_count": null,
   "metadata": {
    "collapsed": true
   },
   "outputs": [],
   "source": []
  }
 ],
 "metadata": {
  "kernelspec": {
   "display_name": "Python 3",
   "language": "python",
   "name": "python3"
  },
  "language_info": {
   "codemirror_mode": {
    "name": "ipython",
    "version": 3
   },
   "file_extension": ".py",
   "mimetype": "text/x-python",
   "name": "python",
   "nbconvert_exporter": "python",
   "pygments_lexer": "ipython3",
   "version": "3.5.2"
  }
 },
 "nbformat": 4,
 "nbformat_minor": 2
}
